{
 "cells": [
  {
   "cell_type": "markdown",
   "id": "90693e80",
   "metadata": {},
   "source": [
    "### Loading Libraries"
   ]
  },
  {
   "cell_type": "code",
   "execution_count": 152,
   "id": "34790c71",
   "metadata": {},
   "outputs": [],
   "source": [
    "import pandas as pd\n",
    "import matplotlib.pyplot as plt\n",
    "import seaborn as sns \n",
    "import nltk\n",
    "from nltk.stem import WordNetLemmatizer\n",
    "from nltk.corpus import stopwords\n",
    "from nltk.sentiment import SentimentIntensityAnalyzer\n",
    "\n",
    "plt.style.use('ggplot')"
   ]
  },
  {
   "cell_type": "code",
   "execution_count": 125,
   "id": "b378dca9",
   "metadata": {},
   "outputs": [],
   "source": [
    "# load data\n",
    "df = pd.read_csv('amazon_reviews.csv')"
   ]
  },
  {
   "cell_type": "code",
   "execution_count": 126,
   "id": "eb84280b",
   "metadata": {},
   "outputs": [
    {
     "data": {
      "application/vnd.microsoft.datawrangler.viewer.v0+json": {
       "columns": [
        {
         "name": "index",
         "rawType": "int64",
         "type": "integer"
        },
        {
         "name": "Summary",
         "rawType": "object",
         "type": "string"
        },
        {
         "name": "Text",
         "rawType": "object",
         "type": "string"
        }
       ],
       "conversionMethod": "pd.DataFrame",
       "ref": "b949f134-4106-461d-9f63-b5e3937875c5",
       "rows": [
        [
         "0",
         "Good Quality Dog Food",
         "I have bought several of the Vitality canned dog food products and have found them all to be of good quality. The product looks more like a stew than a processed meat and it smells better. My Labrador is finicky and she appreciates this product better than  most."
        ],
        [
         "1",
         "Not as Advertised",
         "Product arrived labeled as Jumbo Salted Peanuts...the peanuts were actually small sized unsalted. Not sure if this was an error or if the vendor intended to represent the product as \"Jumbo\"."
        ],
        [
         "2",
         "\"Delight\" says it all",
         "This is a confection that has been around a few centuries.  It is a light, pillowy citrus gelatin with nuts - in this case Filberts. And it is cut into tiny squares and then liberally coated with powdered sugar.  And it is a tiny mouthful of heaven.  Not too chewy, and very flavorful.  I highly recommend this yummy treat.  If you are familiar with the story of C.S. Lewis' \"The Lion, The Witch, and The Wardrobe\" - this is the treat that seduces Edmund into selling out his Brother and Sisters to the Witch."
        ],
        [
         "3",
         "Cough Medicine",
         "If you are looking for the secret ingredient in Robitussin I believe I have found it.  I got this in addition to the Root Beer Extract I ordered (which was good) and made some cherry soda.  The flavor is very medicinal."
        ],
        [
         "4",
         "Great taffy",
         "Great taffy at a great price.  There was a wide assortment of yummy taffy.  Delivery was very quick.  If your a taffy lover, this is a deal."
        ],
        [
         "5",
         "Nice Taffy",
         "I got a wild hair for taffy and ordered this five pound bag. The taffy was all very enjoyable with many flavors: watermelon, root beer, melon, peppermint, grape, etc. My only complaint is there was a bit too much red/black licorice-flavored pieces (just not my particular favorites). Between me, my kids, and my husband, this lasted only two weeks! I would recommend this brand of taffy -- it was a delightful treat."
        ],
        [
         "6",
         "Great!  Just as good as the expensive brands!",
         "This saltwater taffy had great flavors and was very soft and chewy.  Each candy was individually wrapped well.  None of the candies were stuck together, which did happen in the expensive version, Fralinger's.  Would highly recommend this candy!  I served it at a beach-themed party and everyone loved it!"
        ],
        [
         "7",
         "Wonderful, tasty taffy",
         "This taffy is so good.  It is very soft and chewy.  The flavors are amazing.  I would definitely recommend you buying it.  Very satisfying!!"
        ],
        [
         "8",
         "Yay Barley",
         "Right now I'm mostly just sprouting this so my cats can eat the grass. They love it. I rotate it around with Wheatgrass and Rye too"
        ],
        [
         "9",
         "Healthy Dog Food",
         "This is a very healthy dog food. Good for their digestion. Also good for small puppies. My dog eats her required amount at every feeding."
        ],
        [
         "10",
         "The Best Hot Sauce in the World",
         "I don't know if it's the cactus or the tequila or just the unique combination of ingredients, but the flavour of this hot sauce makes it one of a kind!  We picked up a bottle once on a trip we were on and brought it back home with us and were totally blown away!  When we realized that we simply couldn't find it anywhere in our city we were bummed.<br /><br />Now, because of the magic of the internet, we have a case of the sauce and are ecstatic because of it.<br /><br />If you love hot sauce..I mean really love hot sauce, but don't want a sauce that tastelessly burns your throat, grab a bottle of Tequila Picante Gourmet de Inclan.  Just realize that once you taste it, you will never want to use any other sauce.<br /><br />Thank you for the personal, incredible service!"
        ],
        [
         "11",
         "My cats LOVE this \"diet\" food better than their regular food",
         "One of my boys needed to lose some weight and the other didn't.  I put this food on the floor for the chubby guy, and the protein-rich, no by-product food up higher where only my skinny boy can jump.  The higher food sits going stale.  They both really go for this food.  And my chubby boy has been losing about an ounce a week."
        ],
        [
         "12",
         "My Cats Are Not Fans of the New Food",
         "My cats have been happily eating Felidae Platinum for more than two years. I just got a new bag and the shape of the food is different. They tried the new food when I first put it in their bowls and now the bowls sit full and the kitties will not touch the food. I've noticed similar reviews related to formula changes in the past. Unfortunately, I now need to find a new food that my cats will eat."
        ],
        [
         "13",
         "fresh and greasy!",
         "good flavor! these came securely packed... they were fresh and delicious! i love these Twizzlers!"
        ],
        [
         "14",
         "Strawberry Twizzlers - Yummy",
         "The Strawberry Twizzlers are my guilty pleasure - yummy. Six pounds will be around for a while with my son and I."
        ],
        [
         "15",
         "Lots of twizzlers, just what you expect.",
         "My daughter loves twizzlers and this shipment of six pounds really hit the spot. It's exactly what you would expect...six packages of strawberry twizzlers."
        ],
        [
         "16",
         "poor taste",
         "I love eating them and they are good for watching TV and looking at movies! It is not too sweet. I like to transfer them to a zip lock baggie so they stay fresh so I can take my time eating them."
        ],
        [
         "17",
         "Love it!",
         "I am very satisfied with my Twizzler purchase.  I shared these with others and we have all enjoyed them.  I will definitely be ordering more."
        ],
        [
         "18",
         "GREAT SWEET CANDY!",
         "Twizzlers, Strawberry my childhood favorite candy, made in Lancaster Pennsylvania by Y & S Candies, Inc. one of the oldest confectionery Firms in the United States, now a Subsidiary of the Hershey Company, the Company was established in 1845 as Young and Smylie, they also make Apple Licorice Twists, Green Color and Blue Raspberry Licorice Twists, I like them all<br /><br />I keep it in a dry cool place because is not recommended it to put it in the fridge. According to the Guinness Book of Records, the longest Licorice Twist ever made measured 1.200 Feet (370 M) and weighted 100 Pounds (45 Kg) and was made by Y & S Candies, Inc. This Record-Breaking Twist became a Guinness World Record on July 19, 1998. This Product is Kosher! Thank You"
        ],
        [
         "19",
         "Home delivered twizlers",
         "Candy was delivered very fast and was purchased at a reasonable price.  I was home bound and unable to get to a store so this was perfect for me."
        ],
        [
         "20",
         "Always fresh",
         "My husband is a Twizzlers addict.  We've bought these many times from Amazon because we're government employees living overseas and can't get them in the country we are assigned to.  They've always been fresh and tasty, packed well and arrive in a timely manner."
        ],
        [
         "21",
         "TWIZZLERS",
         "I bought these for my husband who is currently overseas. He loves these, and apparently his staff likes them also.<br />There are generous amounts of Twizzlers in each 16-ounce bag, and this was well worth the price. <a href=\"http://www.amazon.com/gp/product/B001GVISJM\">Twizzlers, Strawberry, 16-Ounce Bags (Pack of 6)</a>"
        ],
        [
         "22",
         "Delicious product!",
         "I can remember buying this candy as a kid and the quality hasn't dropped in all these years. Still a superb product you won't be disappointed with."
        ],
        [
         "23",
         "Twizzlers",
         "I love this candy.  After weight watchers I had to cut back but still have a craving for it."
        ],
        [
         "24",
         "Please sell these in Mexico!!",
         "I have lived out of the US for over 7 yrs now, and I so miss my Twizzlers!!  When I go back to visit or someone visits me, I always stock up.  All I can say is YUM!<br />Sell these in Mexico and you will have a faithful buyer, more often than I'm able to buy them right now."
        ],
        [
         "25",
         "Twizzlers - Strawberry",
         "Product received is as advertised.<br /><br /><a href=\"http://www.amazon.com/gp/product/B001GVISJM\">Twizzlers, Strawberry, 16-Ounce Bags (Pack of 6)</a>"
        ],
        [
         "26",
         "Nasty No flavor",
         "The candy is just red , No flavor . Just  plan and chewy .  I would never buy them again"
        ],
        [
         "27",
         "Great Bargain for the Price",
         "I was so glad Amazon carried these batteries.  I have a hard time finding them elsewhere because they are such a unique size.  I need them for my garage door opener.<br />Great deal for the price."
        ],
        [
         "28",
         "YUMMY!",
         "I got this for my Mum who is not diabetic but needs to watch her sugar intake, and my father who simply chooses to limit unnecessary sugar intake - she's the one with the sweet tooth - they both LOVED these toffees, you would never guess that they're sugar-free and it's so great that you can eat them pretty much guilt free!  i was so impressed that i've ordered some for myself (w dark chocolate) to take to the office so i'll eat them instead of snacking on sugary sweets.<br />These are just EXCELLENT!"
        ],
        [
         "29",
         "The Best Hot Sauce in the World",
         "I don't know if it's the cactus or the tequila or just the unique combination of ingredients, but the flavour of this hot sauce makes it one of a kind!  We picked up a bottle once on a trip we were on and brought it back home with us and were totally blown away!  When we realized that we simply couldn't find it anywhere in our city we were bummed.<br /><br />Now, because of the magic of the internet, we have a case of the sauce and are ecstatic because of it.<br /><br />If you love hot sauce..I mean really love hot sauce, but don't want a sauce that tastelessly burns your throat, grab a bottle of Tequila Picante Gourmet de Inclan.  Just realize that once you taste it, you will never want to use any other sauce.<br /><br />Thank you for the personal, incredible service!"
        ],
        [
         "30",
         "Great machine!",
         "I have never been a huge coffee fan. However, my mother purchased this little machine and talked me into trying the Latte Macciato. No Coffee Shop has a better one and I like most of the other products, too (as a usually non-coffee drinker!).<br />The little Dolche Guesto Machine is super easy to use and prepares a really good Coffee/Latte/Cappuccino/etc in less than a minute (if water is heated up). I would recommend the Dolce Gusto to anyone. Too good for the price and I'am getting one myself! :)"
        ],
        [
         "31",
         "THIS IS MY TASTE...",
         "This offer is a great price and a great taste, thanks Amazon for selling this product.<br /><br />Staral"
        ],
        [
         "32",
         "Best of the Instant Oatmeals",
         "McCann's Instant Oatmeal is great if you must have your oatmeal but can only scrape together two or three minutes to prepare it. There is no escaping the fact, however, that even the best instant oatmeal is nowhere near as good as even a store brand of oatmeal requiring stovetop preparation.  Still, the McCann's is as good as it gets for instant oatmeal. It's even better than the organic, all-natural brands I have tried.  All the varieties in the McCann's variety pack taste good.  It can be prepared in the microwave or by adding boiling water so it is convenient in the extreme when time is an issue.<br /><br />McCann's use of actual cane sugar instead of high fructose corn syrup helped me decide to buy this product.  Real sugar tastes better and is not as harmful as the other stuff. One thing I do not like, though, is McCann's use of thickeners.  Oats plus water plus heat should make a creamy, tasty oatmeal without the need for guar gum. But this is a convenience product.  Maybe the guar gum is why, after sitting in the bowl a while, the instant McCann's becomes too thick and gluey."
        ],
        [
         "33",
         "Good Instant",
         "This is a good instant oatmeal from the best oatmeal brand.  It uses cane sugar instead of high fructouse corn syrup, so not only does it have a better sweetness, but some doctors now say that this form of sugar is better for you.  Great on a cold morning when you don't have time to make McCann's Steel Cut Oats.  The apple cinnamon is the best but the maple and brown sugar or the regular are good too.  Plus they don't require doctoring to actually tell the three flavors apart."
        ],
        [
         "34",
         "Great Irish oatmeal for those in a hurry!",
         "Instant oatmeal can become soggy the minute the water hits the bowl. McCann's Instant Oatmeal holds its texture, has excellent flavor, and is good for you all at the same time. McCann's regular oat meal is excellent, too, but may take a bit longer to prepare than most have time for in the morning. This is the best instant brand I've ever eaten, and a very close second to the non-instant variety.<br /><br />McCann's Instant Irish Oatmeal, Variety Pack of Regular, Apples & Cinnamon, and Maple & Brown Sugar, 10-Count Boxes (Pack of 6)"
        ],
        [
         "35",
         "satisfying",
         "McCann's Instant Irish Oatmeal, Variety Pack of Regular, Apples & Cinnamon, and Maple & Brown Sugar, 10-Count Boxes (Pack of 6)<br /><br />I'm a fan of the McCann's steel-cut oats, so I thought I'd give the instant variety a try. I found it to be a hardy meal, not too sweet, and great for folks like me (post-bariatric surgery) who need food that is palatable, easily digestible, with fiber but won't make you bloat."
        ],
        [
         "36",
         "Love Gluten Free Oatmeal!!!",
         "For those of us with celiac disease this product is a lifesaver and what could be better than getting it at almost half the price of the grocery or health food store!  I love McCann's instant oatmeal - all flavors!!!<br /><br />Thanks,<br />Abby"
        ],
        [
         "37",
         "it's oatmeal",
         "What else do you need to know? Oatmeal, instant (make it with a half cup of low-fat milk and add raisins;nuke for 90 seconds). More expensive than Kroger store brand oatmeal and maybe a little tastier or better texture or something. It's still just oatmeal. Mmm, convenient!"
        ],
        [
         "38",
         "GOOD WAY TO START THE DAY....",
         "I WAS VISITING MY FRIEND NATE THE OTHER MORNING FOR COFFEE , HE CAME OUT OF HIS STORAGE ROOM WITH ( A PACKET OF McCANNS INSTANT IRISH OATMEAL .) HE SUGGESTED THAT I TRY IT FOR MY OWN USE ,IN MY STASH . SOMETIMES NATE DOSE NOT GIVE YOU A CHANCE TO SAY NO , SO I ENDED UP TRYING THE APPLE AND CINN . FOUND IT TO BE VERY TASTEFULL WHEN MADE WITH WATER OR POWDERED MILK . IT GOES GOOD WITH O.J. AND COFFEE AND A SLICE OF TOAST AND YOUR READY TO TAKE ON THE WORLD...OR THE DAY AT LEAST..  JERRY REITH..."
        ],
        [
         "39",
         "Wife's favorite Breakfast",
         "I ordered this for my wife as it was reccomended by our daughter.  She has this almost every morning and likes all flavors.  She's happy, I'm happy!!!<br /><a href=\"http://www.amazon.com/gp/product/B001EO5QW8\">McCANN'S Instant Irish Oatmeal, Variety Pack of Regular, Apples & Cinnamon, and Maple & Brown Sugar, 10-Count Boxes (Pack of 6)</a>"
        ],
        [
         "40",
         "Why wouldn't you buy oatmeal from Mcanns? Tastes great!",
         "The variety packs taste great!<br /><br />I have them every morning. At $0.30 cents per meal, I don't understand why everyone on earth isn't buying this stuff up.<br /><br />Maple and brown sugar is terrific, followed by apples and cinnamon, followed by regular. You don't get tired of the same ole thing, and they taste great.<br /><br />I just boil water from a small pot, empty the packet or 2 in a bowl, pour in boiling water, and watch it expand to 2x its size!<br /><br />Taste really good and takes minutes to prepare.<br /><br />Not sure why everyone on earth isn't this. Convenient, healthy, very quick, excellent quality, and extremely cheap..."
        ],
        [
         "41",
         "Oatmeal For Oatmeal Lovers",
         "McCann's makes oatmeal for every oatmeal connoisseur, whether one likes it from the raw pellet state that cooks for half an hour, to the sloth addled instant, which can be done in the microwave for under three minutes. It's all good, that's for sure, and the beauty of the instant variety is that it is available in different flavors as well as regular.<br />  This variety pack allows different tastes to be explored, as well as giving you a chance to experience the difference between McCann's and other well-known oatmeals. What I personally like about McCann's is that it cooks up thicker and with more body than the top brand here in America. The Apples & Cinnamon, though, tends to be a little liquidy so you may want to experiment with the amount of water you add. In my 1300watt microwave the oatmeal cooks up in about one minute and twenty-seven seconds, so you should also watch that to get a handle on how much time and water to use.<br />  The only bad thing -- if you can consider it a bad thing -- about this offering is that you have to buy in lot so you'll end up with six ten-count boxes. This is good if you have a whole family of oatmeal-eaters, but if you're a single person alone -- well, love oatmeal."
        ],
        [
         "42",
         "Food-Great",
         "I have McCann's Oatmeal every morning and by ordering it from Amazon I am able to save almost $3.00 per box.<br />It is a great product. Tastes great and very healthy"
        ],
        [
         "43",
         "Good Hot Breakfast",
         "McCann's Oatmeal is a good quality choice.  Our favorite is the Apples and Cinnamon, but we find that none of these are overly sugary.  For a good hot breakfast in 2 minutes, this is excellent."
        ],
        [
         "44",
         "Great taste and convenience",
         "We really like the McCann's steel cut oats but find we don't cook it up too often.<br />This tastes much better to me than the grocery store brands and is just as convenient.<br />Anything that keeps me eating oatmeal regularly is a good thing."
        ],
        [
         "45",
         "Hearty Oatmeal",
         "This seems a little more wholesome than some of the supermarket brands, but it is somewhat mushy and doesn't have quite as much flavor either.  It didn't pass muster with my kids, so I probably won't buy it again."
        ],
        [
         "46",
         "good",
         "Good oatmeal.  I like the apple cinnamon the best.  Though I wouldn't follow the directions on the package since it always comes out too soupy for my taste.  That could just be me since I like my oatmeal really thick to add some milk on top of."
        ],
        [
         "47",
         "Mushy",
         "The flavors are good.  However, I do not see any differce between this and Oaker Oats brand - they are both mushy."
        ],
        [
         "48",
         "Very good but next time I won't order the Variety Pack",
         "I really like the Maple and Brown Sugar flavor. The regular is fine with brown sugar added. The Apples and Cinnamon flavor is OK. This is a very quick, easy and satisfying breakfast and I'll order this brand again, but not the variety. I'll get all Maple and Brown Sugar."
        ],
        [
         "49",
         "Same stuff",
         "This is the same stuff you can buy at the big box stores.  There is nothing healthy about it.  It is just carbs and sugars.  Save your money and get something that at least has some taste."
        ]
       ],
       "shape": {
        "columns": 2,
        "rows": 2000
       }
      },
      "text/html": [
       "<div>\n",
       "<style scoped>\n",
       "    .dataframe tbody tr th:only-of-type {\n",
       "        vertical-align: middle;\n",
       "    }\n",
       "\n",
       "    .dataframe tbody tr th {\n",
       "        vertical-align: top;\n",
       "    }\n",
       "\n",
       "    .dataframe thead th {\n",
       "        text-align: right;\n",
       "    }\n",
       "</style>\n",
       "<table border=\"1\" class=\"dataframe\">\n",
       "  <thead>\n",
       "    <tr style=\"text-align: right;\">\n",
       "      <th></th>\n",
       "      <th>Summary</th>\n",
       "      <th>Text</th>\n",
       "    </tr>\n",
       "  </thead>\n",
       "  <tbody>\n",
       "    <tr>\n",
       "      <th>0</th>\n",
       "      <td>Good Quality Dog Food</td>\n",
       "      <td>I have bought several of the Vitality canned d...</td>\n",
       "    </tr>\n",
       "    <tr>\n",
       "      <th>1</th>\n",
       "      <td>Not as Advertised</td>\n",
       "      <td>Product arrived labeled as Jumbo Salted Peanut...</td>\n",
       "    </tr>\n",
       "    <tr>\n",
       "      <th>2</th>\n",
       "      <td>\"Delight\" says it all</td>\n",
       "      <td>This is a confection that has been around a fe...</td>\n",
       "    </tr>\n",
       "    <tr>\n",
       "      <th>3</th>\n",
       "      <td>Cough Medicine</td>\n",
       "      <td>If you are looking for the secret ingredient i...</td>\n",
       "    </tr>\n",
       "    <tr>\n",
       "      <th>4</th>\n",
       "      <td>Great taffy</td>\n",
       "      <td>Great taffy at a great price.  There was a wid...</td>\n",
       "    </tr>\n",
       "    <tr>\n",
       "      <th>...</th>\n",
       "      <td>...</td>\n",
       "      <td>...</td>\n",
       "    </tr>\n",
       "    <tr>\n",
       "      <th>1995</th>\n",
       "      <td>Great Waffles for us non-cooks</td>\n",
       "      <td>I have to laugh at the reviews that said it wa...</td>\n",
       "    </tr>\n",
       "    <tr>\n",
       "      <th>1996</th>\n",
       "      <td>Excellent Fluffy Pancakes.....</td>\n",
       "      <td>I had read some favorable reviews of this panc...</td>\n",
       "    </tr>\n",
       "    <tr>\n",
       "      <th>1997</th>\n",
       "      <td>Good Basic Mix</td>\n",
       "      <td>I was expecting great things based on the revi...</td>\n",
       "    </tr>\n",
       "    <tr>\n",
       "      <th>1998</th>\n",
       "      <td>Good pancakes, lots of work</td>\n",
       "      <td>I love this pancake mix.  I bought my first ca...</td>\n",
       "    </tr>\n",
       "    <tr>\n",
       "      <th>1999</th>\n",
       "      <td>waffles, schmaffles !!</td>\n",
       "      <td>What can i say??  They are wonderful, and the ...</td>\n",
       "    </tr>\n",
       "  </tbody>\n",
       "</table>\n",
       "<p>2000 rows × 2 columns</p>\n",
       "</div>"
      ],
      "text/plain": [
       "                             Summary  \\\n",
       "0              Good Quality Dog Food   \n",
       "1                  Not as Advertised   \n",
       "2              \"Delight\" says it all   \n",
       "3                     Cough Medicine   \n",
       "4                        Great taffy   \n",
       "...                              ...   \n",
       "1995  Great Waffles for us non-cooks   \n",
       "1996  Excellent Fluffy Pancakes.....   \n",
       "1997                  Good Basic Mix   \n",
       "1998     Good pancakes, lots of work   \n",
       "1999          waffles, schmaffles !!   \n",
       "\n",
       "                                                   Text  \n",
       "0     I have bought several of the Vitality canned d...  \n",
       "1     Product arrived labeled as Jumbo Salted Peanut...  \n",
       "2     This is a confection that has been around a fe...  \n",
       "3     If you are looking for the secret ingredient i...  \n",
       "4     Great taffy at a great price.  There was a wid...  \n",
       "...                                                 ...  \n",
       "1995  I have to laugh at the reviews that said it wa...  \n",
       "1996  I had read some favorable reviews of this panc...  \n",
       "1997  I was expecting great things based on the revi...  \n",
       "1998  I love this pancake mix.  I bought my first ca...  \n",
       "1999  What can i say??  They are wonderful, and the ...  \n",
       "\n",
       "[2000 rows x 2 columns]"
      ]
     },
     "execution_count": 126,
     "metadata": {},
     "output_type": "execute_result"
    }
   ],
   "source": [
    "# where the analysis will take part\n",
    "df[['Summary', 'Text']]"
   ]
  },
  {
   "cell_type": "markdown",
   "id": "1041dc0b",
   "metadata": {},
   "source": [
    "### Text Processing"
   ]
  },
  {
   "cell_type": "code",
   "execution_count": 127,
   "id": "d83bd89b",
   "metadata": {},
   "outputs": [],
   "source": [
    "wnl = WordNetLemmatizer() # instantiate the Lemmatizer object\n",
    "processed_texts = []\n",
    "stop_words = stopwords.words('english') # stopwords list\n",
    "\n",
    "\n",
    "for text in df['Text']:\n",
    "    doc_tokens = []\n",
    "    sent_tokenized = nltk.sent_tokenize(text) # tokenize sentences\n",
    "    for sent in sent_tokenized:\n",
    "        words = nltk.word_tokenize(sent) # tokenize words\n",
    "        cleaned = [wnl.lemmatize(word.lower()) for word in words if word.isalpha() and word.lower() not in stop_words] # stopword removal, lemmatization\n",
    "        doc_tokens.extend(cleaned)\n",
    "    processed_texts.append(doc_tokens)\n",
    "\n",
    "\n",
    "fully_processed_texts = []\n",
    "for text in processed_texts:\n",
    "    text = ' '.join(text) # convert to a more readable format\n",
    "    fully_processed_texts.append(text)\n",
    "\n",
    "df['processed_text'] = fully_processed_texts # assign to df as a new column"
   ]
  },
  {
   "cell_type": "code",
   "execution_count": 128,
   "id": "8f938a67",
   "metadata": {},
   "outputs": [
    {
     "data": {
      "application/vnd.microsoft.datawrangler.viewer.v0+json": {
       "columns": [
        {
         "name": "index",
         "rawType": "int64",
         "type": "integer"
        },
        {
         "name": "Text",
         "rawType": "object",
         "type": "string"
        },
        {
         "name": "processed_text",
         "rawType": "object",
         "type": "string"
        }
       ],
       "conversionMethod": "pd.DataFrame",
       "ref": "ba7b03c9-a250-441f-9713-d7fe9c6f1a32",
       "rows": [
        [
         "0",
         "I have bought several of the Vitality canned dog food products and have found them all to be of good quality. The product looks more like a stew than a processed meat and it smells better. My Labrador is finicky and she appreciates this product better than  most.",
         "bought several vitality canned dog food product found good quality product look like stew processed meat smell better labrador finicky appreciates product better"
        ],
        [
         "1",
         "Product arrived labeled as Jumbo Salted Peanuts...the peanuts were actually small sized unsalted. Not sure if this was an error or if the vendor intended to represent the product as \"Jumbo\".",
         "product arrived labeled jumbo salted peanut peanut actually small sized unsalted sure error vendor intended represent product jumbo"
        ],
        [
         "2",
         "This is a confection that has been around a few centuries.  It is a light, pillowy citrus gelatin with nuts - in this case Filberts. And it is cut into tiny squares and then liberally coated with powdered sugar.  And it is a tiny mouthful of heaven.  Not too chewy, and very flavorful.  I highly recommend this yummy treat.  If you are familiar with the story of C.S. Lewis' \"The Lion, The Witch, and The Wardrobe\" - this is the treat that seduces Edmund into selling out his Brother and Sisters to the Witch.",
         "confection around century light pillowy citrus gelatin nut case filbert cut tiny square liberally coated powdered sugar tiny mouthful heaven chewy flavorful highly recommend yummy treat familiar story lewis lion witch wardrobe treat seduces edmund selling brother sister witch"
        ],
        [
         "3",
         "If you are looking for the secret ingredient in Robitussin I believe I have found it.  I got this in addition to the Root Beer Extract I ordered (which was good) and made some cherry soda.  The flavor is very medicinal.",
         "looking secret ingredient robitussin believe found got addition root beer extract ordered good made cherry soda flavor medicinal"
        ],
        [
         "4",
         "Great taffy at a great price.  There was a wide assortment of yummy taffy.  Delivery was very quick.  If your a taffy lover, this is a deal.",
         "great taffy great price wide assortment yummy taffy delivery quick taffy lover deal"
        ],
        [
         "5",
         "I got a wild hair for taffy and ordered this five pound bag. The taffy was all very enjoyable with many flavors: watermelon, root beer, melon, peppermint, grape, etc. My only complaint is there was a bit too much red/black licorice-flavored pieces (just not my particular favorites). Between me, my kids, and my husband, this lasted only two weeks! I would recommend this brand of taffy -- it was a delightful treat.",
         "got wild hair taffy ordered five pound bag taffy enjoyable many flavor watermelon root beer melon peppermint grape etc complaint bit much piece particular favorite kid husband lasted two week would recommend brand taffy delightful treat"
        ],
        [
         "6",
         "This saltwater taffy had great flavors and was very soft and chewy.  Each candy was individually wrapped well.  None of the candies were stuck together, which did happen in the expensive version, Fralinger's.  Would highly recommend this candy!  I served it at a beach-themed party and everyone loved it!",
         "saltwater taffy great flavor soft chewy candy individually wrapped well none candy stuck together happen expensive version fralinger would highly recommend candy served party everyone loved"
        ],
        [
         "7",
         "This taffy is so good.  It is very soft and chewy.  The flavors are amazing.  I would definitely recommend you buying it.  Very satisfying!!",
         "taffy good soft chewy flavor amazing would definitely recommend buying satisfying"
        ],
        [
         "8",
         "Right now I'm mostly just sprouting this so my cats can eat the grass. They love it. I rotate it around with Wheatgrass and Rye too",
         "right mostly sprouting cat eat grass love rotate around wheatgrass rye"
        ],
        [
         "9",
         "This is a very healthy dog food. Good for their digestion. Also good for small puppies. My dog eats her required amount at every feeding.",
         "healthy dog food good digestion also good small puppy dog eats required amount every feeding"
        ],
        [
         "10",
         "I don't know if it's the cactus or the tequila or just the unique combination of ingredients, but the flavour of this hot sauce makes it one of a kind!  We picked up a bottle once on a trip we were on and brought it back home with us and were totally blown away!  When we realized that we simply couldn't find it anywhere in our city we were bummed.<br /><br />Now, because of the magic of the internet, we have a case of the sauce and are ecstatic because of it.<br /><br />If you love hot sauce..I mean really love hot sauce, but don't want a sauce that tastelessly burns your throat, grab a bottle of Tequila Picante Gourmet de Inclan.  Just realize that once you taste it, you will never want to use any other sauce.<br /><br />Thank you for the personal, incredible service!",
         "know cactus tequila unique combination ingredient flavour hot sauce make one kind picked bottle trip brought back home u totally blown away realized simply could find anywhere city br br magic internet case sauce ecstatic br br love hot sauce mean really love hot sauce want sauce tastelessly burn throat grab bottle tequila picante gourmet de inclan realize taste never want use br br thank personal incredible service"
        ],
        [
         "11",
         "One of my boys needed to lose some weight and the other didn't.  I put this food on the floor for the chubby guy, and the protein-rich, no by-product food up higher where only my skinny boy can jump.  The higher food sits going stale.  They both really go for this food.  And my chubby boy has been losing about an ounce a week.",
         "one boy needed lose weight put food floor chubby guy food higher skinny boy jump higher food sits going stale really go food chubby boy losing ounce week"
        ],
        [
         "12",
         "My cats have been happily eating Felidae Platinum for more than two years. I just got a new bag and the shape of the food is different. They tried the new food when I first put it in their bowls and now the bowls sit full and the kitties will not touch the food. I've noticed similar reviews related to formula changes in the past. Unfortunately, I now need to find a new food that my cats will eat.",
         "cat happily eating felidae platinum two year got new bag shape food different tried new food first put bowl bowl sit full kitty touch food noticed similar review related formula change past unfortunately need find new food cat eat"
        ],
        [
         "13",
         "good flavor! these came securely packed... they were fresh and delicious! i love these Twizzlers!",
         "good flavor came securely packed fresh delicious love twizzlers"
        ],
        [
         "14",
         "The Strawberry Twizzlers are my guilty pleasure - yummy. Six pounds will be around for a while with my son and I.",
         "strawberry twizzlers guilty pleasure yummy six pound around son"
        ],
        [
         "15",
         "My daughter loves twizzlers and this shipment of six pounds really hit the spot. It's exactly what you would expect...six packages of strawberry twizzlers.",
         "daughter love twizzlers shipment six pound really hit spot exactly would expect six package strawberry twizzlers"
        ],
        [
         "16",
         "I love eating them and they are good for watching TV and looking at movies! It is not too sweet. I like to transfer them to a zip lock baggie so they stay fresh so I can take my time eating them.",
         "love eating good watching tv looking movie sweet like transfer zip lock baggie stay fresh take time eating"
        ],
        [
         "17",
         "I am very satisfied with my Twizzler purchase.  I shared these with others and we have all enjoyed them.  I will definitely be ordering more.",
         "satisfied twizzler purchase shared others enjoyed definitely ordering"
        ],
        [
         "18",
         "Twizzlers, Strawberry my childhood favorite candy, made in Lancaster Pennsylvania by Y & S Candies, Inc. one of the oldest confectionery Firms in the United States, now a Subsidiary of the Hershey Company, the Company was established in 1845 as Young and Smylie, they also make Apple Licorice Twists, Green Color and Blue Raspberry Licorice Twists, I like them all<br /><br />I keep it in a dry cool place because is not recommended it to put it in the fridge. According to the Guinness Book of Records, the longest Licorice Twist ever made measured 1.200 Feet (370 M) and weighted 100 Pounds (45 Kg) and was made by Y & S Candies, Inc. This Record-Breaking Twist became a Guinness World Record on July 19, 1998. This Product is Kosher! Thank You",
         "twizzlers strawberry childhood favorite candy made lancaster pennsylvania candy one oldest confectionery firm united state subsidiary hershey company company established young smylie also make apple licorice twist green color blue raspberry licorice twist like br br keep dry cool place recommended put fridge according guinness book record longest licorice twist ever made measured foot weighted pound kg made candy inc twist became guinness world record july product kosher thank"
        ],
        [
         "19",
         "Candy was delivered very fast and was purchased at a reasonable price.  I was home bound and unable to get to a store so this was perfect for me.",
         "candy delivered fast purchased reasonable price home bound unable get store perfect"
        ],
        [
         "20",
         "My husband is a Twizzlers addict.  We've bought these many times from Amazon because we're government employees living overseas and can't get them in the country we are assigned to.  They've always been fresh and tasty, packed well and arrive in a timely manner.",
         "husband twizzlers addict bought many time amazon government employee living overseas ca get country assigned always fresh tasty packed well arrive timely manner"
        ],
        [
         "21",
         "I bought these for my husband who is currently overseas. He loves these, and apparently his staff likes them also.<br />There are generous amounts of Twizzlers in each 16-ounce bag, and this was well worth the price. <a href=\"http://www.amazon.com/gp/product/B001GVISJM\">Twizzlers, Strawberry, 16-Ounce Bags (Pack of 6)</a>",
         "bought husband currently overseas love apparently staff like br generous amount twizzlers bag well worth price http twizzlers strawberry bag pack"
        ],
        [
         "22",
         "I can remember buying this candy as a kid and the quality hasn't dropped in all these years. Still a superb product you won't be disappointed with.",
         "remember buying candy kid quality dropped year still superb product wo disappointed"
        ],
        [
         "23",
         "I love this candy.  After weight watchers I had to cut back but still have a craving for it.",
         "love candy weight watcher cut back still craving"
        ],
        [
         "24",
         "I have lived out of the US for over 7 yrs now, and I so miss my Twizzlers!!  When I go back to visit or someone visits me, I always stock up.  All I can say is YUM!<br />Sell these in Mexico and you will have a faithful buyer, more often than I'm able to buy them right now.",
         "lived u yr miss twizzlers go back visit someone visit always stock say yum br sell mexico faithful buyer often able buy right"
        ],
        [
         "25",
         "Product received is as advertised.<br /><br /><a href=\"http://www.amazon.com/gp/product/B001GVISJM\">Twizzlers, Strawberry, 16-Ounce Bags (Pack of 6)</a>",
         "product received br br http twizzlers strawberry bag pack"
        ],
        [
         "26",
         "The candy is just red , No flavor . Just  plan and chewy .  I would never buy them again",
         "candy red flavor plan chewy would never buy"
        ],
        [
         "27",
         "I was so glad Amazon carried these batteries.  I have a hard time finding them elsewhere because they are such a unique size.  I need them for my garage door opener.<br />Great deal for the price.",
         "glad amazon carried battery hard time finding elsewhere unique size need garage door br great deal price"
        ],
        [
         "28",
         "I got this for my Mum who is not diabetic but needs to watch her sugar intake, and my father who simply chooses to limit unnecessary sugar intake - she's the one with the sweet tooth - they both LOVED these toffees, you would never guess that they're sugar-free and it's so great that you can eat them pretty much guilt free!  i was so impressed that i've ordered some for myself (w dark chocolate) to take to the office so i'll eat them instead of snacking on sugary sweets.<br />These are just EXCELLENT!",
         "got mum diabetic need watch sugar intake father simply chooses limit unnecessary sugar intake one sweet tooth loved toffee would never guess great eat pretty much guilt free impressed ordered w dark chocolate take office eat instead snacking sugary br excellent"
        ],
        [
         "29",
         "I don't know if it's the cactus or the tequila or just the unique combination of ingredients, but the flavour of this hot sauce makes it one of a kind!  We picked up a bottle once on a trip we were on and brought it back home with us and were totally blown away!  When we realized that we simply couldn't find it anywhere in our city we were bummed.<br /><br />Now, because of the magic of the internet, we have a case of the sauce and are ecstatic because of it.<br /><br />If you love hot sauce..I mean really love hot sauce, but don't want a sauce that tastelessly burns your throat, grab a bottle of Tequila Picante Gourmet de Inclan.  Just realize that once you taste it, you will never want to use any other sauce.<br /><br />Thank you for the personal, incredible service!",
         "know cactus tequila unique combination ingredient flavour hot sauce make one kind picked bottle trip brought back home u totally blown away realized simply could find anywhere city br br magic internet case sauce ecstatic br br love hot sauce mean really love hot sauce want sauce tastelessly burn throat grab bottle tequila picante gourmet de inclan realize taste never want use br br thank personal incredible service"
        ],
        [
         "30",
         "I have never been a huge coffee fan. However, my mother purchased this little machine and talked me into trying the Latte Macciato. No Coffee Shop has a better one and I like most of the other products, too (as a usually non-coffee drinker!).<br />The little Dolche Guesto Machine is super easy to use and prepares a really good Coffee/Latte/Cappuccino/etc in less than a minute (if water is heated up). I would recommend the Dolce Gusto to anyone. Too good for the price and I'am getting one myself! :)",
         "never huge coffee fan however mother purchased little machine talked trying latte macciato coffee shop better one like product usually drinker br little dolche guesto machine super easy use prepares really good less minute water heated would recommend dolce gusto anyone good price getting one"
        ],
        [
         "31",
         "This offer is a great price and a great taste, thanks Amazon for selling this product.<br /><br />Staral",
         "offer great price great taste thanks amazon selling br br staral"
        ],
        [
         "32",
         "McCann's Instant Oatmeal is great if you must have your oatmeal but can only scrape together two or three minutes to prepare it. There is no escaping the fact, however, that even the best instant oatmeal is nowhere near as good as even a store brand of oatmeal requiring stovetop preparation.  Still, the McCann's is as good as it gets for instant oatmeal. It's even better than the organic, all-natural brands I have tried.  All the varieties in the McCann's variety pack taste good.  It can be prepared in the microwave or by adding boiling water so it is convenient in the extreme when time is an issue.<br /><br />McCann's use of actual cane sugar instead of high fructose corn syrup helped me decide to buy this product.  Real sugar tastes better and is not as harmful as the other stuff. One thing I do not like, though, is McCann's use of thickeners.  Oats plus water plus heat should make a creamy, tasty oatmeal without the need for guar gum. But this is a convenience product.  Maybe the guar gum is why, after sitting in the bowl a while, the instant McCann's becomes too thick and gluey.",
         "mccann instant oatmeal great must oatmeal scrape together two three minute prepare escaping fact however even best instant oatmeal nowhere near good even store brand oatmeal requiring stovetop preparation still mccann good get instant oatmeal even better organic brand tried variety mccann variety pack taste good prepared microwave adding boiling water convenient extreme time br br mccann use actual cane sugar instead high fructose corn syrup helped decide buy product real sugar taste better harmful stuff one thing like though mccann use thickener oat plus water plus heat make creamy tasty oatmeal without need guar gum convenience product maybe guar gum sitting bowl instant mccann becomes thick gluey"
        ],
        [
         "33",
         "This is a good instant oatmeal from the best oatmeal brand.  It uses cane sugar instead of high fructouse corn syrup, so not only does it have a better sweetness, but some doctors now say that this form of sugar is better for you.  Great on a cold morning when you don't have time to make McCann's Steel Cut Oats.  The apple cinnamon is the best but the maple and brown sugar or the regular are good too.  Plus they don't require doctoring to actually tell the three flavors apart.",
         "good instant oatmeal best oatmeal brand us cane sugar instead high fructouse corn syrup better sweetness doctor say form sugar better great cold morning time make mccann steel cut oat apple cinnamon best maple brown sugar regular good plus require doctoring actually tell three flavor apart"
        ],
        [
         "34",
         "Instant oatmeal can become soggy the minute the water hits the bowl. McCann's Instant Oatmeal holds its texture, has excellent flavor, and is good for you all at the same time. McCann's regular oat meal is excellent, too, but may take a bit longer to prepare than most have time for in the morning. This is the best instant brand I've ever eaten, and a very close second to the non-instant variety.<br /><br />McCann's Instant Irish Oatmeal, Variety Pack of Regular, Apples & Cinnamon, and Maple & Brown Sugar, 10-Count Boxes (Pack of 6)",
         "instant oatmeal become soggy minute water hit bowl mccann instant oatmeal hold texture excellent flavor good time mccann regular oat meal excellent may take bit longer prepare time morning best instant brand ever eaten close second br br mccann instant irish oatmeal variety pack regular apple cinnamon maple brown sugar box pack"
        ],
        [
         "35",
         "McCann's Instant Irish Oatmeal, Variety Pack of Regular, Apples & Cinnamon, and Maple & Brown Sugar, 10-Count Boxes (Pack of 6)<br /><br />I'm a fan of the McCann's steel-cut oats, so I thought I'd give the instant variety a try. I found it to be a hardy meal, not too sweet, and great for folks like me (post-bariatric surgery) who need food that is palatable, easily digestible, with fiber but won't make you bloat.",
         "mccann instant irish oatmeal variety pack regular apple cinnamon maple brown sugar box pack br br fan mccann oat thought give instant variety try found hardy meal sweet great folk like surgery need food palatable easily digestible fiber wo make bloat"
        ],
        [
         "36",
         "For those of us with celiac disease this product is a lifesaver and what could be better than getting it at almost half the price of the grocery or health food store!  I love McCann's instant oatmeal - all flavors!!!<br /><br />Thanks,<br />Abby",
         "u celiac disease product lifesaver could better getting almost half price grocery health food store love mccann instant oatmeal flavor br br thanks br abby"
        ],
        [
         "37",
         "What else do you need to know? Oatmeal, instant (make it with a half cup of low-fat milk and add raisins;nuke for 90 seconds). More expensive than Kroger store brand oatmeal and maybe a little tastier or better texture or something. It's still just oatmeal. Mmm, convenient!",
         "else need know oatmeal instant make half cup milk add raisin nuke second expensive kroger store brand oatmeal maybe little tastier better texture something still oatmeal mmm convenient"
        ],
        [
         "38",
         "I WAS VISITING MY FRIEND NATE THE OTHER MORNING FOR COFFEE , HE CAME OUT OF HIS STORAGE ROOM WITH ( A PACKET OF McCANNS INSTANT IRISH OATMEAL .) HE SUGGESTED THAT I TRY IT FOR MY OWN USE ,IN MY STASH . SOMETIMES NATE DOSE NOT GIVE YOU A CHANCE TO SAY NO , SO I ENDED UP TRYING THE APPLE AND CINN . FOUND IT TO BE VERY TASTEFULL WHEN MADE WITH WATER OR POWDERED MILK . IT GOES GOOD WITH O.J. AND COFFEE AND A SLICE OF TOAST AND YOUR READY TO TAKE ON THE WORLD...OR THE DAY AT LEAST..  JERRY REITH...",
         "visiting friend nate morning coffee came storage room packet mccanns instant irish oatmeal suggested try use stash sometimes nate dose give chance say ended trying apple cinn found tastefull made water powdered milk go good coffee slice toast ready take world day least jerry reith"
        ],
        [
         "39",
         "I ordered this for my wife as it was reccomended by our daughter.  She has this almost every morning and likes all flavors.  She's happy, I'm happy!!!<br /><a href=\"http://www.amazon.com/gp/product/B001EO5QW8\">McCANN'S Instant Irish Oatmeal, Variety Pack of Regular, Apples & Cinnamon, and Maple & Brown Sugar, 10-Count Boxes (Pack of 6)</a>",
         "ordered wife reccomended daughter almost every morning like flavor happy happy br http mccann instant irish oatmeal variety pack regular apple cinnamon maple brown sugar box pack"
        ],
        [
         "40",
         "The variety packs taste great!<br /><br />I have them every morning. At $0.30 cents per meal, I don't understand why everyone on earth isn't buying this stuff up.<br /><br />Maple and brown sugar is terrific, followed by apples and cinnamon, followed by regular. You don't get tired of the same ole thing, and they taste great.<br /><br />I just boil water from a small pot, empty the packet or 2 in a bowl, pour in boiling water, and watch it expand to 2x its size!<br /><br />Taste really good and takes minutes to prepare.<br /><br />Not sure why everyone on earth isn't this. Convenient, healthy, very quick, excellent quality, and extremely cheap...",
         "variety pack taste great br br every morning cent per meal understand everyone earth buying stuff br br maple brown sugar terrific followed apple cinnamon followed regular get tired ole thing taste br br boil water small pot empty packet bowl pour boiling water watch expand size br br taste really good take minute br br sure everyone earth convenient healthy quick excellent quality extremely cheap"
        ],
        [
         "41",
         "McCann's makes oatmeal for every oatmeal connoisseur, whether one likes it from the raw pellet state that cooks for half an hour, to the sloth addled instant, which can be done in the microwave for under three minutes. It's all good, that's for sure, and the beauty of the instant variety is that it is available in different flavors as well as regular.<br />  This variety pack allows different tastes to be explored, as well as giving you a chance to experience the difference between McCann's and other well-known oatmeals. What I personally like about McCann's is that it cooks up thicker and with more body than the top brand here in America. The Apples & Cinnamon, though, tends to be a little liquidy so you may want to experiment with the amount of water you add. In my 1300watt microwave the oatmeal cooks up in about one minute and twenty-seven seconds, so you should also watch that to get a handle on how much time and water to use.<br />  The only bad thing -- if you can consider it a bad thing -- about this offering is that you have to buy in lot so you'll end up with six ten-count boxes. This is good if you have a whole family of oatmeal-eaters, but if you're a single person alone -- well, love oatmeal.",
         "mccann make oatmeal every oatmeal connoisseur whether one like raw pellet state cook half hour sloth addled instant done microwave three minute good sure beauty instant variety available different flavor well br variety pack allows different taste explored well giving chance experience difference mccann oatmeal personally like mccann cook thicker body top brand america apple cinnamon though tends little liquidy may want experiment amount water add microwave oatmeal cook one minute second also watch get handle much time water br bad thing consider bad thing offering buy lot end six box good whole family single person alone well love oatmeal"
        ],
        [
         "42",
         "I have McCann's Oatmeal every morning and by ordering it from Amazon I am able to save almost $3.00 per box.<br />It is a great product. Tastes great and very healthy",
         "mccann oatmeal every morning ordering amazon able save almost per br great product taste great healthy"
        ],
        [
         "43",
         "McCann's Oatmeal is a good quality choice.  Our favorite is the Apples and Cinnamon, but we find that none of these are overly sugary.  For a good hot breakfast in 2 minutes, this is excellent.",
         "mccann oatmeal good quality choice favorite apple cinnamon find none overly sugary good hot breakfast minute excellent"
        ],
        [
         "44",
         "We really like the McCann's steel cut oats but find we don't cook it up too often.<br />This tastes much better to me than the grocery store brands and is just as convenient.<br />Anything that keeps me eating oatmeal regularly is a good thing.",
         "really like mccann steel cut oat find cook br taste much better grocery store brand br anything keep eating oatmeal regularly good thing"
        ],
        [
         "45",
         "This seems a little more wholesome than some of the supermarket brands, but it is somewhat mushy and doesn't have quite as much flavor either.  It didn't pass muster with my kids, so I probably won't buy it again.",
         "seems little wholesome supermarket brand somewhat mushy quite much flavor either pas muster kid probably wo buy"
        ],
        [
         "46",
         "Good oatmeal.  I like the apple cinnamon the best.  Though I wouldn't follow the directions on the package since it always comes out too soupy for my taste.  That could just be me since I like my oatmeal really thick to add some milk on top of.",
         "good oatmeal like apple cinnamon best though would follow direction package since always come soupy taste could since like oatmeal really thick add milk top"
        ],
        [
         "47",
         "The flavors are good.  However, I do not see any differce between this and Oaker Oats brand - they are both mushy.",
         "flavor good however see differce oaker oat brand mushy"
        ],
        [
         "48",
         "I really like the Maple and Brown Sugar flavor. The regular is fine with brown sugar added. The Apples and Cinnamon flavor is OK. This is a very quick, easy and satisfying breakfast and I'll order this brand again, but not the variety. I'll get all Maple and Brown Sugar.",
         "really like maple brown sugar flavor regular fine brown sugar added apple cinnamon flavor ok quick easy satisfying breakfast order brand variety get maple brown sugar"
        ],
        [
         "49",
         "This is the same stuff you can buy at the big box stores.  There is nothing healthy about it.  It is just carbs and sugars.  Save your money and get something that at least has some taste.",
         "stuff buy big box store nothing healthy carbs sugar save money get something least taste"
        ]
       ],
       "shape": {
        "columns": 2,
        "rows": 2000
       }
      },
      "text/html": [
       "<div>\n",
       "<style scoped>\n",
       "    .dataframe tbody tr th:only-of-type {\n",
       "        vertical-align: middle;\n",
       "    }\n",
       "\n",
       "    .dataframe tbody tr th {\n",
       "        vertical-align: top;\n",
       "    }\n",
       "\n",
       "    .dataframe thead th {\n",
       "        text-align: right;\n",
       "    }\n",
       "</style>\n",
       "<table border=\"1\" class=\"dataframe\">\n",
       "  <thead>\n",
       "    <tr style=\"text-align: right;\">\n",
       "      <th></th>\n",
       "      <th>Text</th>\n",
       "      <th>processed_text</th>\n",
       "    </tr>\n",
       "  </thead>\n",
       "  <tbody>\n",
       "    <tr>\n",
       "      <th>0</th>\n",
       "      <td>I have bought several of the Vitality canned d...</td>\n",
       "      <td>bought several vitality canned dog food produc...</td>\n",
       "    </tr>\n",
       "    <tr>\n",
       "      <th>1</th>\n",
       "      <td>Product arrived labeled as Jumbo Salted Peanut...</td>\n",
       "      <td>product arrived labeled jumbo salted peanut pe...</td>\n",
       "    </tr>\n",
       "    <tr>\n",
       "      <th>2</th>\n",
       "      <td>This is a confection that has been around a fe...</td>\n",
       "      <td>confection around century light pillowy citrus...</td>\n",
       "    </tr>\n",
       "    <tr>\n",
       "      <th>3</th>\n",
       "      <td>If you are looking for the secret ingredient i...</td>\n",
       "      <td>looking secret ingredient robitussin believe f...</td>\n",
       "    </tr>\n",
       "    <tr>\n",
       "      <th>4</th>\n",
       "      <td>Great taffy at a great price.  There was a wid...</td>\n",
       "      <td>great taffy great price wide assortment yummy ...</td>\n",
       "    </tr>\n",
       "    <tr>\n",
       "      <th>...</th>\n",
       "      <td>...</td>\n",
       "      <td>...</td>\n",
       "    </tr>\n",
       "    <tr>\n",
       "      <th>1995</th>\n",
       "      <td>I have to laugh at the reviews that said it wa...</td>\n",
       "      <td>laugh review said much work add egg little but...</td>\n",
       "    </tr>\n",
       "    <tr>\n",
       "      <th>1996</th>\n",
       "      <td>I had read some favorable reviews of this panc...</td>\n",
       "      <td>read favorable review pancake mix amazon quite...</td>\n",
       "    </tr>\n",
       "    <tr>\n",
       "      <th>1997</th>\n",
       "      <td>I was expecting great things based on the revi...</td>\n",
       "      <td>expecting great thing based review good great ...</td>\n",
       "    </tr>\n",
       "    <tr>\n",
       "      <th>1998</th>\n",
       "      <td>I love this pancake mix.  I bought my first ca...</td>\n",
       "      <td>love pancake mix bought first whole food marke...</td>\n",
       "    </tr>\n",
       "    <tr>\n",
       "      <th>1999</th>\n",
       "      <td>What can i say??  They are wonderful, and the ...</td>\n",
       "      <td>say wonderful highlight weekend ohhhhhh use so...</td>\n",
       "    </tr>\n",
       "  </tbody>\n",
       "</table>\n",
       "<p>2000 rows × 2 columns</p>\n",
       "</div>"
      ],
      "text/plain": [
       "                                                   Text  \\\n",
       "0     I have bought several of the Vitality canned d...   \n",
       "1     Product arrived labeled as Jumbo Salted Peanut...   \n",
       "2     This is a confection that has been around a fe...   \n",
       "3     If you are looking for the secret ingredient i...   \n",
       "4     Great taffy at a great price.  There was a wid...   \n",
       "...                                                 ...   \n",
       "1995  I have to laugh at the reviews that said it wa...   \n",
       "1996  I had read some favorable reviews of this panc...   \n",
       "1997  I was expecting great things based on the revi...   \n",
       "1998  I love this pancake mix.  I bought my first ca...   \n",
       "1999  What can i say??  They are wonderful, and the ...   \n",
       "\n",
       "                                         processed_text  \n",
       "0     bought several vitality canned dog food produc...  \n",
       "1     product arrived labeled jumbo salted peanut pe...  \n",
       "2     confection around century light pillowy citrus...  \n",
       "3     looking secret ingredient robitussin believe f...  \n",
       "4     great taffy great price wide assortment yummy ...  \n",
       "...                                                 ...  \n",
       "1995  laugh review said much work add egg little but...  \n",
       "1996  read favorable review pancake mix amazon quite...  \n",
       "1997  expecting great thing based review good great ...  \n",
       "1998  love pancake mix bought first whole food marke...  \n",
       "1999  say wonderful highlight weekend ohhhhhh use so...  \n",
       "\n",
       "[2000 rows x 2 columns]"
      ]
     },
     "execution_count": 128,
     "metadata": {},
     "output_type": "execute_result"
    }
   ],
   "source": [
    "df[['Text', 'processed_text']]"
   ]
  },
  {
   "cell_type": "markdown",
   "id": "a9eda826",
   "metadata": {},
   "source": [
    "### Getting sentiment values out"
   ]
  },
  {
   "cell_type": "code",
   "execution_count": 129,
   "id": "100d2ef4",
   "metadata": {},
   "outputs": [],
   "source": [
    "sia = SentimentIntensityAnalyzer() # sentiment object initialize\n",
    "\n",
    "sentiment_values = {}\n",
    "for i, row in df.iterrows():\n",
    "    text = row['processed_text']\n",
    "    myid = row['Id']\n",
    "    sentiment_values[myid] = sia.polarity_scores(text)\n",
    "\n",
    "sentiment_df = pd.DataFrame(sentiment_values).T.reset_index(drop=True) # storing sentiment values in a df\n",
    "\n",
    "df = pd.concat([df, sentiment_df], axis=1) # combining the original df with the new sentiment values "
   ]
  },
  {
   "cell_type": "code",
   "execution_count": 130,
   "id": "081763a8",
   "metadata": {},
   "outputs": [
    {
     "data": {
      "application/vnd.microsoft.datawrangler.viewer.v0+json": {
       "columns": [
        {
         "name": "index",
         "rawType": "int64",
         "type": "integer"
        },
        {
         "name": "Id",
         "rawType": "int64",
         "type": "integer"
        },
        {
         "name": "ProductId",
         "rawType": "object",
         "type": "string"
        },
        {
         "name": "UserId",
         "rawType": "object",
         "type": "string"
        },
        {
         "name": "ProfileName",
         "rawType": "object",
         "type": "string"
        },
        {
         "name": "HelpfulnessNumerator",
         "rawType": "int64",
         "type": "integer"
        },
        {
         "name": "HelpfulnessDenominator",
         "rawType": "int64",
         "type": "integer"
        },
        {
         "name": "Score",
         "rawType": "int64",
         "type": "integer"
        },
        {
         "name": "Time",
         "rawType": "int64",
         "type": "integer"
        },
        {
         "name": "Summary",
         "rawType": "object",
         "type": "string"
        },
        {
         "name": "Text",
         "rawType": "object",
         "type": "string"
        },
        {
         "name": "processed_text",
         "rawType": "object",
         "type": "string"
        },
        {
         "name": "neg",
         "rawType": "float64",
         "type": "float"
        },
        {
         "name": "neu",
         "rawType": "float64",
         "type": "float"
        },
        {
         "name": "pos",
         "rawType": "float64",
         "type": "float"
        },
        {
         "name": "compound",
         "rawType": "float64",
         "type": "float"
        }
       ],
       "conversionMethod": "pd.DataFrame",
       "ref": "39291cf0-b82c-4c56-822a-0019aad149d1",
       "rows": [
        [
         "0",
         "1",
         "B001E4KFG0",
         "A3SGXH7AUHU8GW",
         "delmartian",
         "1",
         "1",
         "5",
         "1303862400",
         "Good Quality Dog Food",
         "I have bought several of the Vitality canned dog food products and have found them all to be of good quality. The product looks more like a stew than a processed meat and it smells better. My Labrador is finicky and she appreciates this product better than  most.",
         "bought several vitality canned dog food product found good quality product look like stew processed meat smell better labrador finicky appreciates product better",
         "0.0",
         "0.503",
         "0.497",
         "0.9413"
        ],
        [
         "1",
         "2",
         "B00813GRG4",
         "A1D87F6ZCVE5NK",
         "dll pa",
         "0",
         "0",
         "1",
         "1346976000",
         "Not as Advertised",
         "Product arrived labeled as Jumbo Salted Peanuts...the peanuts were actually small sized unsalted. Not sure if this was an error or if the vendor intended to represent the product as \"Jumbo\".",
         "product arrived labeled jumbo salted peanut peanut actually small sized unsalted sure error vendor intended represent product jumbo",
         "0.129",
         "0.762",
         "0.11",
         "-0.1027"
        ],
        [
         "2",
         "3",
         "B000LQOCH0",
         "ABXLMWJIXXAIN",
         "Natalia Corres \"Natalia Corres\"",
         "1",
         "1",
         "4",
         "1219017600",
         "\"Delight\" says it all",
         "This is a confection that has been around a few centuries.  It is a light, pillowy citrus gelatin with nuts - in this case Filberts. And it is cut into tiny squares and then liberally coated with powdered sugar.  And it is a tiny mouthful of heaven.  Not too chewy, and very flavorful.  I highly recommend this yummy treat.  If you are familiar with the story of C.S. Lewis' \"The Lion, The Witch, and The Wardrobe\" - this is the treat that seduces Edmund into selling out his Brother and Sisters to the Witch.",
         "confection around century light pillowy citrus gelatin nut case filbert cut tiny square liberally coated powdered sugar tiny mouthful heaven chewy flavorful highly recommend yummy treat familiar story lewis lion witch wardrobe treat seduces edmund selling brother sister witch",
         "0.132",
         "0.576",
         "0.292",
         "0.8624"
        ],
        [
         "3",
         "4",
         "B000UA0QIQ",
         "A395BORC6FGVXV",
         "Karl",
         "3",
         "3",
         "2",
         "1307923200",
         "Cough Medicine",
         "If you are looking for the secret ingredient in Robitussin I believe I have found it.  I got this in addition to the Root Beer Extract I ordered (which was good) and made some cherry soda.  The flavor is very medicinal.",
         "looking secret ingredient robitussin believe found got addition root beer extract ordered good made cherry soda flavor medicinal",
         "0.0",
         "0.854",
         "0.146",
         "0.4404"
        ],
        [
         "4",
         "5",
         "B006K2ZZ7K",
         "A1UQRSCLF8GW1T",
         "Michael D. Bigham \"M. Wassir\"",
         "0",
         "0",
         "5",
         "1350777600",
         "Great taffy",
         "Great taffy at a great price.  There was a wide assortment of yummy taffy.  Delivery was very quick.  If your a taffy lover, this is a deal.",
         "great taffy great price wide assortment yummy taffy delivery quick taffy lover deal",
         "0.0",
         "0.369",
         "0.631",
         "0.9468"
        ],
        [
         "5",
         "6",
         "B006K2ZZ7K",
         "ADT0SRK1MGOEU",
         "Twoapennything",
         "0",
         "0",
         "4",
         "1342051200",
         "Nice Taffy",
         "I got a wild hair for taffy and ordered this five pound bag. The taffy was all very enjoyable with many flavors: watermelon, root beer, melon, peppermint, grape, etc. My only complaint is there was a bit too much red/black licorice-flavored pieces (just not my particular favorites). Between me, my kids, and my husband, this lasted only two weeks! I would recommend this brand of taffy -- it was a delightful treat.",
         "got wild hair taffy ordered five pound bag taffy enjoyable many flavor watermelon root beer melon peppermint grape etc complaint bit much piece particular favorite kid husband lasted two week would recommend brand taffy delightful treat",
         "0.047",
         "0.637",
         "0.316",
         "0.9136"
        ],
        [
         "6",
         "7",
         "B006K2ZZ7K",
         "A1SP2KVKFXXRU1",
         "David C. Sullivan",
         "0",
         "0",
         "5",
         "1340150400",
         "Great!  Just as good as the expensive brands!",
         "This saltwater taffy had great flavors and was very soft and chewy.  Each candy was individually wrapped well.  None of the candies were stuck together, which did happen in the expensive version, Fralinger's.  Would highly recommend this candy!  I served it at a beach-themed party and everyone loved it!",
         "saltwater taffy great flavor soft chewy candy individually wrapped well none candy stuck together happen expensive version fralinger would highly recommend candy served party everyone loved",
         "0.0",
         "0.536",
         "0.464",
         "0.9463"
        ],
        [
         "7",
         "8",
         "B006K2ZZ7K",
         "A3JRGQVEQN31IQ",
         "Pamela G. Williams",
         "0",
         "0",
         "5",
         "1336003200",
         "Wonderful, tasty taffy",
         "This taffy is so good.  It is very soft and chewy.  The flavors are amazing.  I would definitely recommend you buying it.  Very satisfying!!",
         "taffy good soft chewy flavor amazing would definitely recommend buying satisfying",
         "0.0",
         "0.287",
         "0.713",
         "0.9313"
        ],
        [
         "8",
         "9",
         "B000E7L2R4",
         "A1MZYO9TZK0BBI",
         "R. James",
         "1",
         "1",
         "5",
         "1322006400",
         "Yay Barley",
         "Right now I'm mostly just sprouting this so my cats can eat the grass. They love it. I rotate it around with Wheatgrass and Rye too",
         "right mostly sprouting cat eat grass love rotate around wheatgrass rye",
         "0.0",
         "0.704",
         "0.296",
         "0.6369"
        ],
        [
         "9",
         "10",
         "B00171APVA",
         "A21BT40VZCCYT4",
         "Carol A. Reed",
         "0",
         "0",
         "5",
         "1351209600",
         "Healthy Dog Food",
         "This is a very healthy dog food. Good for their digestion. Also good for small puppies. My dog eats her required amount at every feeding.",
         "healthy dog food good digestion also good small puppy dog eats required amount every feeding",
         "0.0",
         "0.585",
         "0.415",
         "0.8176"
        ],
        [
         "10",
         "11",
         "B0001PB9FE",
         "A3HDKO7OW0QNK4",
         "Canadian Fan",
         "1",
         "1",
         "5",
         "1107820800",
         "The Best Hot Sauce in the World",
         "I don't know if it's the cactus or the tequila or just the unique combination of ingredients, but the flavour of this hot sauce makes it one of a kind!  We picked up a bottle once on a trip we were on and brought it back home with us and were totally blown away!  When we realized that we simply couldn't find it anywhere in our city we were bummed.<br /><br />Now, because of the magic of the internet, we have a case of the sauce and are ecstatic because of it.<br /><br />If you love hot sauce..I mean really love hot sauce, but don't want a sauce that tastelessly burns your throat, grab a bottle of Tequila Picante Gourmet de Inclan.  Just realize that once you taste it, you will never want to use any other sauce.<br /><br />Thank you for the personal, incredible service!",
         "know cactus tequila unique combination ingredient flavour hot sauce make one kind picked bottle trip brought back home u totally blown away realized simply could find anywhere city br br magic internet case sauce ecstatic br br love hot sauce mean really love hot sauce want sauce tastelessly burn throat grab bottle tequila picante gourmet de inclan realize taste never want use br br thank personal incredible service",
         "0.0",
         "0.748",
         "0.252",
         "0.9595"
        ],
        [
         "11",
         "12",
         "B0009XLVG0",
         "A2725IB4YY9JEB",
         "A Poeng \"SparkyGoHome\"",
         "4",
         "4",
         "5",
         "1282867200",
         "My cats LOVE this \"diet\" food better than their regular food",
         "One of my boys needed to lose some weight and the other didn't.  I put this food on the floor for the chubby guy, and the protein-rich, no by-product food up higher where only my skinny boy can jump.  The higher food sits going stale.  They both really go for this food.  And my chubby boy has been losing about an ounce a week.",
         "one boy needed lose weight put food floor chubby guy food higher skinny boy jump higher food sits going stale really go food chubby boy losing ounce week",
         "0.169",
         "0.831",
         "0.0",
         "-0.6486"
        ],
        [
         "12",
         "13",
         "B0009XLVG0",
         "A327PCT23YH90",
         "LT",
         "1",
         "1",
         "1",
         "1339545600",
         "My Cats Are Not Fans of the New Food",
         "My cats have been happily eating Felidae Platinum for more than two years. I just got a new bag and the shape of the food is different. They tried the new food when I first put it in their bowls and now the bowls sit full and the kitties will not touch the food. I've noticed similar reviews related to formula changes in the past. Unfortunately, I now need to find a new food that my cats will eat.",
         "cat happily eating felidae platinum two year got new bag shape food different tried new food first put bowl bowl sit full kitty touch food noticed similar review related formula change past unfortunately need find new food cat eat",
         "0.056",
         "0.86",
         "0.084",
         "0.296"
        ],
        [
         "13",
         "14",
         "B001GVISJM",
         "A18ECVX2RJ7HUE",
         "willie \"roadie\"",
         "2",
         "2",
         "4",
         "1288915200",
         "fresh and greasy!",
         "good flavor! these came securely packed... they were fresh and delicious! i love these Twizzlers!",
         "good flavor came securely packed fresh delicious love twizzlers",
         "0.0",
         "0.205",
         "0.795",
         "0.9382"
        ],
        [
         "14",
         "15",
         "B001GVISJM",
         "A2MUGFV2TDQ47K",
         "Lynrie \"Oh HELL no\"",
         "4",
         "5",
         "5",
         "1268352000",
         "Strawberry Twizzlers - Yummy",
         "The Strawberry Twizzlers are my guilty pleasure - yummy. Six pounds will be around for a while with my son and I.",
         "strawberry twizzlers guilty pleasure yummy six pound around son",
         "0.176",
         "0.377",
         "0.447",
         "0.6486"
        ],
        [
         "15",
         "16",
         "B001GVISJM",
         "A1CZX3CP8IKQIJ",
         "Brian A. Lee",
         "4",
         "5",
         "5",
         "1262044800",
         "Lots of twizzlers, just what you expect.",
         "My daughter loves twizzlers and this shipment of six pounds really hit the spot. It's exactly what you would expect...six packages of strawberry twizzlers.",
         "daughter love twizzlers shipment six pound really hit spot exactly would expect six package strawberry twizzlers",
         "0.0",
         "0.781",
         "0.219",
         "0.6369"
        ],
        [
         "16",
         "17",
         "B001GVISJM",
         "A3KLWF6WQ5BNYO",
         "Erica Neathery",
         "0",
         "0",
         "2",
         "1348099200",
         "poor taste",
         "I love eating them and they are good for watching TV and looking at movies! It is not too sweet. I like to transfer them to a zip lock baggie so they stay fresh so I can take my time eating them.",
         "love eating good watching tv looking movie sweet like transfer zip lock baggie stay fresh take time eating",
         "0.0",
         "0.466",
         "0.534",
         "0.9313"
        ],
        [
         "17",
         "18",
         "B001GVISJM",
         "AFKW14U97Z6QO",
         "Becca",
         "0",
         "0",
         "5",
         "1345075200",
         "Love it!",
         "I am very satisfied with my Twizzler purchase.  I shared these with others and we have all enjoyed them.  I will definitely be ordering more.",
         "satisfied twizzler purchase shared others enjoyed definitely ordering",
         "0.0",
         "0.263",
         "0.737",
         "0.8807"
        ],
        [
         "18",
         "19",
         "B001GVISJM",
         "A2A9X58G2GTBLP",
         "Wolfee1",
         "0",
         "0",
         "5",
         "1324598400",
         "GREAT SWEET CANDY!",
         "Twizzlers, Strawberry my childhood favorite candy, made in Lancaster Pennsylvania by Y & S Candies, Inc. one of the oldest confectionery Firms in the United States, now a Subsidiary of the Hershey Company, the Company was established in 1845 as Young and Smylie, they also make Apple Licorice Twists, Green Color and Blue Raspberry Licorice Twists, I like them all<br /><br />I keep it in a dry cool place because is not recommended it to put it in the fridge. According to the Guinness Book of Records, the longest Licorice Twist ever made measured 1.200 Feet (370 M) and weighted 100 Pounds (45 Kg) and was made by Y & S Candies, Inc. This Record-Breaking Twist became a Guinness World Record on July 19, 1998. This Product is Kosher! Thank You",
         "twizzlers strawberry childhood favorite candy made lancaster pennsylvania candy one oldest confectionery firm united state subsidiary hershey company company established young smylie also make apple licorice twist green color blue raspberry licorice twist like br br keep dry cool place recommended put fridge according guinness book record longest licorice twist ever made measured foot weighted pound kg made candy inc twist became guinness world record july product kosher thank",
         "0.0",
         "0.809",
         "0.191",
         "0.9169"
        ],
        [
         "19",
         "20",
         "B001GVISJM",
         "A3IV7CL2C13K2U",
         "Greg",
         "0",
         "0",
         "5",
         "1318032000",
         "Home delivered twizlers",
         "Candy was delivered very fast and was purchased at a reasonable price.  I was home bound and unable to get to a store so this was perfect for me.",
         "candy delivered fast purchased reasonable price home bound unable get store perfect",
         "0.0",
         "0.748",
         "0.252",
         "0.5719"
        ],
        [
         "20",
         "21",
         "B001GVISJM",
         "A1WO0KGLPR5PV6",
         "mom2emma",
         "0",
         "0",
         "5",
         "1313452800",
         "Always fresh",
         "My husband is a Twizzlers addict.  We've bought these many times from Amazon because we're government employees living overseas and can't get them in the country we are assigned to.  They've always been fresh and tasty, packed well and arrive in a timely manner.",
         "husband twizzlers addict bought many time amazon government employee living overseas ca get country assigned always fresh tasty packed well arrive timely manner",
         "0.0",
         "0.766",
         "0.234",
         "0.6249"
        ],
        [
         "21",
         "22",
         "B001GVISJM",
         "AZOF9E17RGZH8",
         "Tammy Anderson",
         "0",
         "0",
         "5",
         "1308960000",
         "TWIZZLERS",
         "I bought these for my husband who is currently overseas. He loves these, and apparently his staff likes them also.<br />There are generous amounts of Twizzlers in each 16-ounce bag, and this was well worth the price. <a href=\"http://www.amazon.com/gp/product/B001GVISJM\">Twizzlers, Strawberry, 16-Ounce Bags (Pack of 6)</a>",
         "bought husband currently overseas love apparently staff like br generous amount twizzlers bag well worth price http twizzlers strawberry bag pack",
         "0.0",
         "0.533",
         "0.467",
         "0.9186"
        ],
        [
         "22",
         "23",
         "B001GVISJM",
         "ARYVQL4N737A1",
         "Charles Brown",
         "0",
         "0",
         "5",
         "1304899200",
         "Delicious product!",
         "I can remember buying this candy as a kid and the quality hasn't dropped in all these years. Still a superb product you won't be disappointed with.",
         "remember buying candy kid quality dropped year still superb product wo disappointed",
         "0.18",
         "0.581",
         "0.238",
         "0.25"
        ],
        [
         "23",
         "24",
         "B001GVISJM",
         "AJ613OLZZUG7V",
         "Mare's",
         "0",
         "0",
         "5",
         "1304467200",
         "Twizzlers",
         "I love this candy.  After weight watchers I had to cut back but still have a craving for it.",
         "love candy weight watcher cut back still craving",
         "0.171",
         "0.488",
         "0.341",
         "0.4767"
        ],
        [
         "24",
         "25",
         "B001GVISJM",
         "A22P2J09NJ9HKE",
         "S. Cabanaugh \"jilly pepper\"",
         "0",
         "0",
         "5",
         "1295481600",
         "Please sell these in Mexico!!",
         "I have lived out of the US for over 7 yrs now, and I so miss my Twizzlers!!  When I go back to visit or someone visits me, I always stock up.  All I can say is YUM!<br />Sell these in Mexico and you will have a faithful buyer, more often than I'm able to buy them right now.",
         "lived u yr miss twizzlers go back visit someone visit always stock say yum br sell mexico faithful buyer often able buy right",
         "0.065",
         "0.816",
         "0.118",
         "0.3182"
        ],
        [
         "25",
         "26",
         "B001GVISJM",
         "A3FONPR03H3PJS",
         "Deborah S. Linzer \"Cat Lady\"",
         "0",
         "0",
         "5",
         "1288310400",
         "Twizzlers - Strawberry",
         "Product received is as advertised.<br /><br /><a href=\"http://www.amazon.com/gp/product/B001GVISJM\">Twizzlers, Strawberry, 16-Ounce Bags (Pack of 6)</a>",
         "product received br br http twizzlers strawberry bag pack",
         "0.0",
         "1.0",
         "0.0",
         "0.0"
        ],
        [
         "26",
         "27",
         "B001GVISJM",
         "A3RXAU2N8KV45G",
         "lady21",
         "0",
         "1",
         "1",
         "1332633600",
         "Nasty No flavor",
         "The candy is just red , No flavor . Just  plan and chewy .  I would never buy them again",
         "candy red flavor plan chewy would never buy",
         "0.0",
         "1.0",
         "0.0",
         "0.0"
        ],
        [
         "27",
         "28",
         "B001GVISJM",
         "AAAS38B98HMIK",
         "Heather Dube",
         "0",
         "1",
         "4",
         "1331856000",
         "Great Bargain for the Price",
         "I was so glad Amazon carried these batteries.  I have a hard time finding them elsewhere because they are such a unique size.  I need them for my garage door opener.<br />Great deal for the price.",
         "glad amazon carried battery hard time finding elsewhere unique size need garage door br great deal price",
         "0.06",
         "0.56",
         "0.379",
         "0.8126"
        ],
        [
         "28",
         "29",
         "B00144C10S",
         "A2F4LZVGFLD1OB",
         "DaisyH",
         "0",
         "0",
         "5",
         "1338854400",
         "YUMMY!",
         "I got this for my Mum who is not diabetic but needs to watch her sugar intake, and my father who simply chooses to limit unnecessary sugar intake - she's the one with the sweet tooth - they both LOVED these toffees, you would never guess that they're sugar-free and it's so great that you can eat them pretty much guilt free!  i was so impressed that i've ordered some for myself (w dark chocolate) to take to the office so i'll eat them instead of snacking on sugary sweets.<br />These are just EXCELLENT!",
         "got mum diabetic need watch sugar intake father simply chooses limit unnecessary sugar intake one sweet tooth loved toffee would never guess great eat pretty much guilt free impressed ordered w dark chocolate take office eat instead snacking sugary br excellent",
         "0.094",
         "0.556",
         "0.351",
         "0.9414"
        ],
        [
         "29",
         "30",
         "B0001PB9FY",
         "A3HDKO7OW0QNK4",
         "Canadian Fan",
         "1",
         "1",
         "5",
         "1107820800",
         "The Best Hot Sauce in the World",
         "I don't know if it's the cactus or the tequila or just the unique combination of ingredients, but the flavour of this hot sauce makes it one of a kind!  We picked up a bottle once on a trip we were on and brought it back home with us and were totally blown away!  When we realized that we simply couldn't find it anywhere in our city we were bummed.<br /><br />Now, because of the magic of the internet, we have a case of the sauce and are ecstatic because of it.<br /><br />If you love hot sauce..I mean really love hot sauce, but don't want a sauce that tastelessly burns your throat, grab a bottle of Tequila Picante Gourmet de Inclan.  Just realize that once you taste it, you will never want to use any other sauce.<br /><br />Thank you for the personal, incredible service!",
         "know cactus tequila unique combination ingredient flavour hot sauce make one kind picked bottle trip brought back home u totally blown away realized simply could find anywhere city br br magic internet case sauce ecstatic br br love hot sauce mean really love hot sauce want sauce tastelessly burn throat grab bottle tequila picante gourmet de inclan realize taste never want use br br thank personal incredible service",
         "0.0",
         "0.748",
         "0.252",
         "0.9595"
        ],
        [
         "30",
         "31",
         "B003F6UO7K",
         "AFM0O9480F04W",
         "Sherril",
         "0",
         "0",
         "5",
         "1297641600",
         "Great machine!",
         "I have never been a huge coffee fan. However, my mother purchased this little machine and talked me into trying the Latte Macciato. No Coffee Shop has a better one and I like most of the other products, too (as a usually non-coffee drinker!).<br />The little Dolche Guesto Machine is super easy to use and prepares a really good Coffee/Latte/Cappuccino/etc in less than a minute (if water is heated up). I would recommend the Dolce Gusto to anyone. Too good for the price and I'am getting one myself! :)",
         "never huge coffee fan however mother purchased little machine talked trying latte macciato coffee shop better one like product usually drinker br little dolche guesto machine super easy use prepares really good less minute water heated would recommend dolce gusto anyone good price getting one",
         "0.064",
         "0.59",
         "0.346",
         "0.9529"
        ],
        [
         "31",
         "32",
         "B003F6UO7K",
         "A31OQO709M20Y7",
         "Molly V. Smith \"staral\"",
         "0",
         "1",
         "5",
         "1288310400",
         "THIS IS MY TASTE...",
         "This offer is a great price and a great taste, thanks Amazon for selling this product.<br /><br />Staral",
         "offer great price great taste thanks amazon selling br br staral",
         "0.0",
         "0.354",
         "0.646",
         "0.9153"
        ],
        [
         "32",
         "33",
         "B001EO5QW8",
         "AOVROBZ8BNTP7",
         "S. Potter",
         "19",
         "19",
         "4",
         "1163376000",
         "Best of the Instant Oatmeals",
         "McCann's Instant Oatmeal is great if you must have your oatmeal but can only scrape together two or three minutes to prepare it. There is no escaping the fact, however, that even the best instant oatmeal is nowhere near as good as even a store brand of oatmeal requiring stovetop preparation.  Still, the McCann's is as good as it gets for instant oatmeal. It's even better than the organic, all-natural brands I have tried.  All the varieties in the McCann's variety pack taste good.  It can be prepared in the microwave or by adding boiling water so it is convenient in the extreme when time is an issue.<br /><br />McCann's use of actual cane sugar instead of high fructose corn syrup helped me decide to buy this product.  Real sugar tastes better and is not as harmful as the other stuff. One thing I do not like, though, is McCann's use of thickeners.  Oats plus water plus heat should make a creamy, tasty oatmeal without the need for guar gum. But this is a convenience product.  Maybe the guar gum is why, after sitting in the bowl a while, the instant McCann's becomes too thick and gluey.",
         "mccann instant oatmeal great must oatmeal scrape together two three minute prepare escaping fact however even best instant oatmeal nowhere near good even store brand oatmeal requiring stovetop preparation still mccann good get instant oatmeal even better organic brand tried variety mccann variety pack taste good prepared microwave adding boiling water convenient extreme time br br mccann use actual cane sugar instead high fructose corn syrup helped decide buy product real sugar taste better harmful stuff one thing like though mccann use thickener oat plus water plus heat make creamy tasty oatmeal without need guar gum convenience product maybe guar gum sitting bowl instant mccann becomes thick gluey",
         "0.058",
         "0.785",
         "0.158",
         "0.9097"
        ],
        [
         "33",
         "34",
         "B001EO5QW8",
         "A3PMM0NFVEJGK9",
         "Megan \"Bad at Nicknames\"",
         "13",
         "13",
         "4",
         "1166313600",
         "Good Instant",
         "This is a good instant oatmeal from the best oatmeal brand.  It uses cane sugar instead of high fructouse corn syrup, so not only does it have a better sweetness, but some doctors now say that this form of sugar is better for you.  Great on a cold morning when you don't have time to make McCann's Steel Cut Oats.  The apple cinnamon is the best but the maple and brown sugar or the regular are good too.  Plus they don't require doctoring to actually tell the three flavors apart.",
         "good instant oatmeal best oatmeal brand us cane sugar instead high fructouse corn syrup better sweetness doctor say form sugar better great cold morning time make mccann steel cut oat apple cinnamon best maple brown sugar regular good plus require doctoring actually tell three flavor apart",
         "0.032",
         "0.557",
         "0.411",
         "0.9781"
        ],
        [
         "34",
         "35",
         "B001EO5QW8",
         "A2EB6OGOWCRU5H",
         "CorbyJames",
         "9",
         "9",
         "5",
         "1175212800",
         "Great Irish oatmeal for those in a hurry!",
         "Instant oatmeal can become soggy the minute the water hits the bowl. McCann's Instant Oatmeal holds its texture, has excellent flavor, and is good for you all at the same time. McCann's regular oat meal is excellent, too, but may take a bit longer to prepare than most have time for in the morning. This is the best instant brand I've ever eaten, and a very close second to the non-instant variety.<br /><br />McCann's Instant Irish Oatmeal, Variety Pack of Regular, Apples & Cinnamon, and Maple & Brown Sugar, 10-Count Boxes (Pack of 6)",
         "instant oatmeal become soggy minute water hit bowl mccann instant oatmeal hold texture excellent flavor good time mccann regular oat meal excellent may take bit longer prepare time morning best instant brand ever eaten close second br br mccann instant irish oatmeal variety pack regular apple cinnamon maple brown sugar box pack",
         "0.0",
         "0.768",
         "0.232",
         "0.9382"
        ],
        [
         "35",
         "36",
         "B001EO5QW8",
         "A2CI0RLADCRKPF",
         "T. J. Ryan",
         "3",
         "3",
         "4",
         "1210464000",
         "satisfying",
         "McCann's Instant Irish Oatmeal, Variety Pack of Regular, Apples & Cinnamon, and Maple & Brown Sugar, 10-Count Boxes (Pack of 6)<br /><br />I'm a fan of the McCann's steel-cut oats, so I thought I'd give the instant variety a try. I found it to be a hardy meal, not too sweet, and great for folks like me (post-bariatric surgery) who need food that is palatable, easily digestible, with fiber but won't make you bloat.",
         "mccann instant irish oatmeal variety pack regular apple cinnamon maple brown sugar box pack br br fan mccann oat thought give instant variety try found hardy meal sweet great folk like surgery need food palatable easily digestible fiber wo make bloat",
         "0.0",
         "0.634",
         "0.366",
         "0.9559"
        ],
        [
         "36",
         "37",
         "B001EO5QW8",
         "A1MYS9LFFBIYKM",
         "Abby Chase \"gluten free\"",
         "2",
         "2",
         "5",
         "1190851200",
         "Love Gluten Free Oatmeal!!!",
         "For those of us with celiac disease this product is a lifesaver and what could be better than getting it at almost half the price of the grocery or health food store!  I love McCann's instant oatmeal - all flavors!!!<br /><br />Thanks,<br />Abby",
         "u celiac disease product lifesaver could better getting almost half price grocery health food store love mccann instant oatmeal flavor br br thanks br abby",
         "0.0",
         "0.592",
         "0.408",
         "0.93"
        ],
        [
         "37",
         "38",
         "B001EO5QW8",
         "A3MGP2E1ZZ6GRB",
         "Zardoz \"focuspuller\"",
         "1",
         "1",
         "5",
         "1238457600",
         "it's oatmeal",
         "What else do you need to know? Oatmeal, instant (make it with a half cup of low-fat milk and add raisins;nuke for 90 seconds). More expensive than Kroger store brand oatmeal and maybe a little tastier or better texture or something. It's still just oatmeal. Mmm, convenient!",
         "else need know oatmeal instant make half cup milk add raisin nuke second expensive kroger store brand oatmeal maybe little tastier better texture something still oatmeal mmm convenient",
         "0.0",
         "0.911",
         "0.089",
         "0.3862"
        ],
        [
         "38",
         "39",
         "B001EO5QW8",
         "A2GHZ2UTV2B0CD",
         "JERRY REITH",
         "0",
         "0",
         "4",
         "1350777600",
         "GOOD WAY TO START THE DAY....",
         "I WAS VISITING MY FRIEND NATE THE OTHER MORNING FOR COFFEE , HE CAME OUT OF HIS STORAGE ROOM WITH ( A PACKET OF McCANNS INSTANT IRISH OATMEAL .) HE SUGGESTED THAT I TRY IT FOR MY OWN USE ,IN MY STASH . SOMETIMES NATE DOSE NOT GIVE YOU A CHANCE TO SAY NO , SO I ENDED UP TRYING THE APPLE AND CINN . FOUND IT TO BE VERY TASTEFULL WHEN MADE WITH WATER OR POWDERED MILK . IT GOES GOOD WITH O.J. AND COFFEE AND A SLICE OF TOAST AND YOUR READY TO TAKE ON THE WORLD...OR THE DAY AT LEAST..  JERRY REITH...",
         "visiting friend nate morning coffee came storage room packet mccanns instant irish oatmeal suggested try use stash sometimes nate dose give chance say ended trying apple cinn found tastefull made water powdered milk go good coffee slice toast ready take world day least jerry reith",
         "0.0",
         "0.795",
         "0.205",
         "0.8625"
        ],
        [
         "39",
         "40",
         "B001EO5QW8",
         "AO80AC8313NIZ",
         "kYpondman",
         "0",
         "0",
         "5",
         "1317168000",
         "Wife's favorite Breakfast",
         "I ordered this for my wife as it was reccomended by our daughter.  She has this almost every morning and likes all flavors.  She's happy, I'm happy!!!<br /><a href=\"http://www.amazon.com/gp/product/B001EO5QW8\">McCANN'S Instant Irish Oatmeal, Variety Pack of Regular, Apples & Cinnamon, and Maple & Brown Sugar, 10-Count Boxes (Pack of 6)</a>",
         "ordered wife reccomended daughter almost every morning like flavor happy happy br http mccann instant irish oatmeal variety pack regular apple cinnamon maple brown sugar box pack",
         "0.0",
         "0.714",
         "0.286",
         "0.8637"
        ],
        [
         "40",
         "41",
         "B001EO5QW8",
         "AQCY5KRO7489S",
         "Garrett",
         "0",
         "0",
         "5",
         "1303430400",
         "Why wouldn't you buy oatmeal from Mcanns? Tastes great!",
         "The variety packs taste great!<br /><br />I have them every morning. At $0.30 cents per meal, I don't understand why everyone on earth isn't buying this stuff up.<br /><br />Maple and brown sugar is terrific, followed by apples and cinnamon, followed by regular. You don't get tired of the same ole thing, and they taste great.<br /><br />I just boil water from a small pot, empty the packet or 2 in a bowl, pour in boiling water, and watch it expand to 2x its size!<br /><br />Taste really good and takes minutes to prepare.<br /><br />Not sure why everyone on earth isn't this. Convenient, healthy, very quick, excellent quality, and extremely cheap...",
         "variety pack taste great br br every morning cent per meal understand everyone earth buying stuff br br maple brown sugar terrific followed apple cinnamon followed regular get tired ole thing taste br br boil water small pot empty packet bowl pour boiling water watch expand size br br taste really good take minute br br sure everyone earth convenient healthy quick excellent quality extremely cheap",
         "0.057",
         "0.686",
         "0.257",
         "0.9493"
        ],
        [
         "41",
         "42",
         "B001EO5QW8",
         "A1WK4ALVZDYPUE",
         "Dick Baldwin \"christobe\"",
         "0",
         "0",
         "5",
         "1302134400",
         "Oatmeal For Oatmeal Lovers",
         "McCann's makes oatmeal for every oatmeal connoisseur, whether one likes it from the raw pellet state that cooks for half an hour, to the sloth addled instant, which can be done in the microwave for under three minutes. It's all good, that's for sure, and the beauty of the instant variety is that it is available in different flavors as well as regular.<br />  This variety pack allows different tastes to be explored, as well as giving you a chance to experience the difference between McCann's and other well-known oatmeals. What I personally like about McCann's is that it cooks up thicker and with more body than the top brand here in America. The Apples & Cinnamon, though, tends to be a little liquidy so you may want to experiment with the amount of water you add. In my 1300watt microwave the oatmeal cooks up in about one minute and twenty-seven seconds, so you should also watch that to get a handle on how much time and water to use.<br />  The only bad thing -- if you can consider it a bad thing -- about this offering is that you have to buy in lot so you'll end up with six ten-count boxes. This is good if you have a whole family of oatmeal-eaters, but if you're a single person alone -- well, love oatmeal.",
         "mccann make oatmeal every oatmeal connoisseur whether one like raw pellet state cook half hour sloth addled instant done microwave three minute good sure beauty instant variety available different flavor well br variety pack allows different taste explored well giving chance experience difference mccann oatmeal personally like mccann cook thicker body top brand america apple cinnamon though tends little liquidy may want experiment amount water add microwave oatmeal cook one minute second also watch get handle much time water br bad thing consider bad thing offering buy lot end six box good whole family single person alone well love oatmeal",
         "0.071",
         "0.655",
         "0.274",
         "0.9667"
        ],
        [
         "42",
         "43",
         "B001EO5QW8",
         "A16XFOYQSJREL7",
         "Roger Pugliese",
         "0",
         "0",
         "5",
         "1287014400",
         "Food-Great",
         "I have McCann's Oatmeal every morning and by ordering it from Amazon I am able to save almost $3.00 per box.<br />It is a great product. Tastes great and very healthy",
         "mccann oatmeal every morning ordering amazon able save almost per br great product taste great healthy",
         "0.0",
         "0.419",
         "0.581",
         "0.9357"
        ],
        [
         "43",
         "44",
         "B001EO5QW8",
         "A17DW6SUOC70DJ",
         "Mother of 9",
         "0",
         "0",
         "5",
         "1255392000",
         "Good Hot Breakfast",
         "McCann's Oatmeal is a good quality choice.  Our favorite is the Apples and Cinnamon, but we find that none of these are overly sugary.  For a good hot breakfast in 2 minutes, this is excellent.",
         "mccann oatmeal good quality choice favorite apple cinnamon find none overly sugary good hot breakfast minute excellent",
         "0.0",
         "0.51",
         "0.49",
         "0.91"
        ],
        [
         "44",
         "45",
         "B001EO5QW8",
         "A2G7B7FKP2O2PU",
         "D. Leschke",
         "0",
         "0",
         "5",
         "1209686400",
         "Great taste and convenience",
         "We really like the McCann's steel cut oats but find we don't cook it up too often.<br />This tastes much better to me than the grocery store brands and is just as convenient.<br />Anything that keeps me eating oatmeal regularly is a good thing.",
         "really like mccann steel cut oat find cook br taste much better grocery store brand br anything keep eating oatmeal regularly good thing",
         "0.071",
         "0.64",
         "0.289",
         "0.7574"
        ],
        [
         "45",
         "46",
         "B001EO5QW8",
         "A39Z97950MCTQE",
         "K. A. Freel",
         "0",
         "0",
         "3",
         "1205193600",
         "Hearty Oatmeal",
         "This seems a little more wholesome than some of the supermarket brands, but it is somewhat mushy and doesn't have quite as much flavor either.  It didn't pass muster with my kids, so I probably won't buy it again.",
         "seems little wholesome supermarket brand somewhat mushy quite much flavor either pas muster kid probably wo buy",
         "0.0",
         "1.0",
         "0.0",
         "0.0"
        ],
        [
         "46",
         "47",
         "B001EO5QW8",
         "AQLL2R1PPR46X",
         "grumpyrainbow",
         "0",
         "0",
         "5",
         "1192752000",
         "good",
         "Good oatmeal.  I like the apple cinnamon the best.  Though I wouldn't follow the directions on the package since it always comes out too soupy for my taste.  That could just be me since I like my oatmeal really thick to add some milk on top of.",
         "good oatmeal like apple cinnamon best though would follow direction package since always come soupy taste could since like oatmeal really thick add milk top",
         "0.0",
         "0.59",
         "0.41",
         "0.9169"
        ],
        [
         "47",
         "48",
         "B001EO5QW8",
         "A26AY1TFK8BQXQ",
         "kbogo \"shoelover\"",
         "1",
         "2",
         "3",
         "1200096000",
         "Mushy",
         "The flavors are good.  However, I do not see any differce between this and Oaker Oats brand - they are both mushy.",
         "flavor good however see differce oaker oat brand mushy",
         "0.0",
         "0.734",
         "0.266",
         "0.4404"
        ],
        [
         "48",
         "49",
         "B001EO5QW8",
         "ALOR97KTZTK1P",
         "knitty pants",
         "1",
         "2",
         "4",
         "1191715200",
         "Very good but next time I won't order the Variety Pack",
         "I really like the Maple and Brown Sugar flavor. The regular is fine with brown sugar added. The Apples and Cinnamon flavor is OK. This is a very quick, easy and satisfying breakfast and I'll order this brand again, but not the variety. I'll get all Maple and Brown Sugar.",
         "really like maple brown sugar flavor regular fine brown sugar added apple cinnamon flavor ok quick easy satisfying breakfast order brand variety get maple brown sugar",
         "0.0",
         "0.623",
         "0.377",
         "0.8932"
        ],
        [
         "49",
         "50",
         "B001EO5QW8",
         "A276999Y6VRSCQ",
         "JMay",
         "0",
         "1",
         "3",
         "1334016000",
         "Same stuff",
         "This is the same stuff you can buy at the big box stores.  There is nothing healthy about it.  It is just carbs and sugars.  Save your money and get something that at least has some taste.",
         "stuff buy big box store nothing healthy carbs sugar save money get something least taste",
         "0.122",
         "0.704",
         "0.173",
         "0.2363"
        ]
       ],
       "shape": {
        "columns": 15,
        "rows": 2000
       }
      },
      "text/html": [
       "<div>\n",
       "<style scoped>\n",
       "    .dataframe tbody tr th:only-of-type {\n",
       "        vertical-align: middle;\n",
       "    }\n",
       "\n",
       "    .dataframe tbody tr th {\n",
       "        vertical-align: top;\n",
       "    }\n",
       "\n",
       "    .dataframe thead th {\n",
       "        text-align: right;\n",
       "    }\n",
       "</style>\n",
       "<table border=\"1\" class=\"dataframe\">\n",
       "  <thead>\n",
       "    <tr style=\"text-align: right;\">\n",
       "      <th></th>\n",
       "      <th>Id</th>\n",
       "      <th>ProductId</th>\n",
       "      <th>UserId</th>\n",
       "      <th>ProfileName</th>\n",
       "      <th>HelpfulnessNumerator</th>\n",
       "      <th>HelpfulnessDenominator</th>\n",
       "      <th>Score</th>\n",
       "      <th>Time</th>\n",
       "      <th>Summary</th>\n",
       "      <th>Text</th>\n",
       "      <th>processed_text</th>\n",
       "      <th>neg</th>\n",
       "      <th>neu</th>\n",
       "      <th>pos</th>\n",
       "      <th>compound</th>\n",
       "    </tr>\n",
       "  </thead>\n",
       "  <tbody>\n",
       "    <tr>\n",
       "      <th>0</th>\n",
       "      <td>1</td>\n",
       "      <td>B001E4KFG0</td>\n",
       "      <td>A3SGXH7AUHU8GW</td>\n",
       "      <td>delmartian</td>\n",
       "      <td>1</td>\n",
       "      <td>1</td>\n",
       "      <td>5</td>\n",
       "      <td>1303862400</td>\n",
       "      <td>Good Quality Dog Food</td>\n",
       "      <td>I have bought several of the Vitality canned d...</td>\n",
       "      <td>bought several vitality canned dog food produc...</td>\n",
       "      <td>0.000</td>\n",
       "      <td>0.503</td>\n",
       "      <td>0.497</td>\n",
       "      <td>0.9413</td>\n",
       "    </tr>\n",
       "    <tr>\n",
       "      <th>1</th>\n",
       "      <td>2</td>\n",
       "      <td>B00813GRG4</td>\n",
       "      <td>A1D87F6ZCVE5NK</td>\n",
       "      <td>dll pa</td>\n",
       "      <td>0</td>\n",
       "      <td>0</td>\n",
       "      <td>1</td>\n",
       "      <td>1346976000</td>\n",
       "      <td>Not as Advertised</td>\n",
       "      <td>Product arrived labeled as Jumbo Salted Peanut...</td>\n",
       "      <td>product arrived labeled jumbo salted peanut pe...</td>\n",
       "      <td>0.129</td>\n",
       "      <td>0.762</td>\n",
       "      <td>0.110</td>\n",
       "      <td>-0.1027</td>\n",
       "    </tr>\n",
       "    <tr>\n",
       "      <th>2</th>\n",
       "      <td>3</td>\n",
       "      <td>B000LQOCH0</td>\n",
       "      <td>ABXLMWJIXXAIN</td>\n",
       "      <td>Natalia Corres \"Natalia Corres\"</td>\n",
       "      <td>1</td>\n",
       "      <td>1</td>\n",
       "      <td>4</td>\n",
       "      <td>1219017600</td>\n",
       "      <td>\"Delight\" says it all</td>\n",
       "      <td>This is a confection that has been around a fe...</td>\n",
       "      <td>confection around century light pillowy citrus...</td>\n",
       "      <td>0.132</td>\n",
       "      <td>0.576</td>\n",
       "      <td>0.292</td>\n",
       "      <td>0.8624</td>\n",
       "    </tr>\n",
       "    <tr>\n",
       "      <th>3</th>\n",
       "      <td>4</td>\n",
       "      <td>B000UA0QIQ</td>\n",
       "      <td>A395BORC6FGVXV</td>\n",
       "      <td>Karl</td>\n",
       "      <td>3</td>\n",
       "      <td>3</td>\n",
       "      <td>2</td>\n",
       "      <td>1307923200</td>\n",
       "      <td>Cough Medicine</td>\n",
       "      <td>If you are looking for the secret ingredient i...</td>\n",
       "      <td>looking secret ingredient robitussin believe f...</td>\n",
       "      <td>0.000</td>\n",
       "      <td>0.854</td>\n",
       "      <td>0.146</td>\n",
       "      <td>0.4404</td>\n",
       "    </tr>\n",
       "    <tr>\n",
       "      <th>4</th>\n",
       "      <td>5</td>\n",
       "      <td>B006K2ZZ7K</td>\n",
       "      <td>A1UQRSCLF8GW1T</td>\n",
       "      <td>Michael D. Bigham \"M. Wassir\"</td>\n",
       "      <td>0</td>\n",
       "      <td>0</td>\n",
       "      <td>5</td>\n",
       "      <td>1350777600</td>\n",
       "      <td>Great taffy</td>\n",
       "      <td>Great taffy at a great price.  There was a wid...</td>\n",
       "      <td>great taffy great price wide assortment yummy ...</td>\n",
       "      <td>0.000</td>\n",
       "      <td>0.369</td>\n",
       "      <td>0.631</td>\n",
       "      <td>0.9468</td>\n",
       "    </tr>\n",
       "    <tr>\n",
       "      <th>...</th>\n",
       "      <td>...</td>\n",
       "      <td>...</td>\n",
       "      <td>...</td>\n",
       "      <td>...</td>\n",
       "      <td>...</td>\n",
       "      <td>...</td>\n",
       "      <td>...</td>\n",
       "      <td>...</td>\n",
       "      <td>...</td>\n",
       "      <td>...</td>\n",
       "      <td>...</td>\n",
       "      <td>...</td>\n",
       "      <td>...</td>\n",
       "      <td>...</td>\n",
       "      <td>...</td>\n",
       "    </tr>\n",
       "    <tr>\n",
       "      <th>1995</th>\n",
       "      <td>1996</td>\n",
       "      <td>B001E5E29A</td>\n",
       "      <td>A3IJNH61DY5N9K</td>\n",
       "      <td>Sharon Allan</td>\n",
       "      <td>10</td>\n",
       "      <td>11</td>\n",
       "      <td>5</td>\n",
       "      <td>1265846400</td>\n",
       "      <td>Great Waffles for us non-cooks</td>\n",
       "      <td>I have to laugh at the reviews that said it wa...</td>\n",
       "      <td>laugh review said much work add egg little but...</td>\n",
       "      <td>0.000</td>\n",
       "      <td>0.554</td>\n",
       "      <td>0.446</td>\n",
       "      <td>0.9731</td>\n",
       "    </tr>\n",
       "    <tr>\n",
       "      <th>1996</th>\n",
       "      <td>1997</td>\n",
       "      <td>B001E5E29A</td>\n",
       "      <td>A35W3JQYP0M655</td>\n",
       "      <td>Ambergris \"John Thomas\"</td>\n",
       "      <td>7</td>\n",
       "      <td>7</td>\n",
       "      <td>5</td>\n",
       "      <td>1279929600</td>\n",
       "      <td>Excellent Fluffy Pancakes.....</td>\n",
       "      <td>I had read some favorable reviews of this panc...</td>\n",
       "      <td>read favorable review pancake mix amazon quite...</td>\n",
       "      <td>0.026</td>\n",
       "      <td>0.614</td>\n",
       "      <td>0.360</td>\n",
       "      <td>0.9961</td>\n",
       "    </tr>\n",
       "    <tr>\n",
       "      <th>1997</th>\n",
       "      <td>1998</td>\n",
       "      <td>B001E5E29A</td>\n",
       "      <td>A3CLWZGMC7M9Z1</td>\n",
       "      <td>Hippie2MARS \"Hippie2MARS\"</td>\n",
       "      <td>6</td>\n",
       "      <td>6</td>\n",
       "      <td>4</td>\n",
       "      <td>1250640000</td>\n",
       "      <td>Good Basic Mix</td>\n",
       "      <td>I was expecting great things based on the revi...</td>\n",
       "      <td>expecting great thing based review good great ...</td>\n",
       "      <td>0.000</td>\n",
       "      <td>0.503</td>\n",
       "      <td>0.497</td>\n",
       "      <td>0.9498</td>\n",
       "    </tr>\n",
       "    <tr>\n",
       "      <th>1998</th>\n",
       "      <td>1999</td>\n",
       "      <td>B001E5E29A</td>\n",
       "      <td>A2V6P1FKRHCVQQ</td>\n",
       "      <td>S. Jackson</td>\n",
       "      <td>8</td>\n",
       "      <td>9</td>\n",
       "      <td>4</td>\n",
       "      <td>1265760000</td>\n",
       "      <td>Good pancakes, lots of work</td>\n",
       "      <td>I love this pancake mix.  I bought my first ca...</td>\n",
       "      <td>love pancake mix bought first whole food marke...</td>\n",
       "      <td>0.098</td>\n",
       "      <td>0.705</td>\n",
       "      <td>0.197</td>\n",
       "      <td>0.7003</td>\n",
       "    </tr>\n",
       "    <tr>\n",
       "      <th>1999</th>\n",
       "      <td>2000</td>\n",
       "      <td>B001E5E29A</td>\n",
       "      <td>AZ9N3928BGQ0E</td>\n",
       "      <td>J. Nachison \"long-time SF and history lover\"</td>\n",
       "      <td>7</td>\n",
       "      <td>8</td>\n",
       "      <td>5</td>\n",
       "      <td>1206835200</td>\n",
       "      <td>waffles, schmaffles !!</td>\n",
       "      <td>What can i say??  They are wonderful, and the ...</td>\n",
       "      <td>say wonderful highlight weekend ohhhhhh use so...</td>\n",
       "      <td>0.000</td>\n",
       "      <td>0.471</td>\n",
       "      <td>0.529</td>\n",
       "      <td>0.8402</td>\n",
       "    </tr>\n",
       "  </tbody>\n",
       "</table>\n",
       "<p>2000 rows × 15 columns</p>\n",
       "</div>"
      ],
      "text/plain": [
       "        Id   ProductId          UserId  \\\n",
       "0        1  B001E4KFG0  A3SGXH7AUHU8GW   \n",
       "1        2  B00813GRG4  A1D87F6ZCVE5NK   \n",
       "2        3  B000LQOCH0   ABXLMWJIXXAIN   \n",
       "3        4  B000UA0QIQ  A395BORC6FGVXV   \n",
       "4        5  B006K2ZZ7K  A1UQRSCLF8GW1T   \n",
       "...    ...         ...             ...   \n",
       "1995  1996  B001E5E29A  A3IJNH61DY5N9K   \n",
       "1996  1997  B001E5E29A  A35W3JQYP0M655   \n",
       "1997  1998  B001E5E29A  A3CLWZGMC7M9Z1   \n",
       "1998  1999  B001E5E29A  A2V6P1FKRHCVQQ   \n",
       "1999  2000  B001E5E29A   AZ9N3928BGQ0E   \n",
       "\n",
       "                                       ProfileName  HelpfulnessNumerator  \\\n",
       "0                                       delmartian                     1   \n",
       "1                                           dll pa                     0   \n",
       "2                  Natalia Corres \"Natalia Corres\"                     1   \n",
       "3                                             Karl                     3   \n",
       "4                    Michael D. Bigham \"M. Wassir\"                     0   \n",
       "...                                            ...                   ...   \n",
       "1995                                  Sharon Allan                    10   \n",
       "1996                       Ambergris \"John Thomas\"                     7   \n",
       "1997                     Hippie2MARS \"Hippie2MARS\"                     6   \n",
       "1998                                    S. Jackson                     8   \n",
       "1999  J. Nachison \"long-time SF and history lover\"                     7   \n",
       "\n",
       "      HelpfulnessDenominator  Score        Time  \\\n",
       "0                          1      5  1303862400   \n",
       "1                          0      1  1346976000   \n",
       "2                          1      4  1219017600   \n",
       "3                          3      2  1307923200   \n",
       "4                          0      5  1350777600   \n",
       "...                      ...    ...         ...   \n",
       "1995                      11      5  1265846400   \n",
       "1996                       7      5  1279929600   \n",
       "1997                       6      4  1250640000   \n",
       "1998                       9      4  1265760000   \n",
       "1999                       8      5  1206835200   \n",
       "\n",
       "                             Summary  \\\n",
       "0              Good Quality Dog Food   \n",
       "1                  Not as Advertised   \n",
       "2              \"Delight\" says it all   \n",
       "3                     Cough Medicine   \n",
       "4                        Great taffy   \n",
       "...                              ...   \n",
       "1995  Great Waffles for us non-cooks   \n",
       "1996  Excellent Fluffy Pancakes.....   \n",
       "1997                  Good Basic Mix   \n",
       "1998     Good pancakes, lots of work   \n",
       "1999          waffles, schmaffles !!   \n",
       "\n",
       "                                                   Text  \\\n",
       "0     I have bought several of the Vitality canned d...   \n",
       "1     Product arrived labeled as Jumbo Salted Peanut...   \n",
       "2     This is a confection that has been around a fe...   \n",
       "3     If you are looking for the secret ingredient i...   \n",
       "4     Great taffy at a great price.  There was a wid...   \n",
       "...                                                 ...   \n",
       "1995  I have to laugh at the reviews that said it wa...   \n",
       "1996  I had read some favorable reviews of this panc...   \n",
       "1997  I was expecting great things based on the revi...   \n",
       "1998  I love this pancake mix.  I bought my first ca...   \n",
       "1999  What can i say??  They are wonderful, and the ...   \n",
       "\n",
       "                                         processed_text    neg    neu    pos  \\\n",
       "0     bought several vitality canned dog food produc...  0.000  0.503  0.497   \n",
       "1     product arrived labeled jumbo salted peanut pe...  0.129  0.762  0.110   \n",
       "2     confection around century light pillowy citrus...  0.132  0.576  0.292   \n",
       "3     looking secret ingredient robitussin believe f...  0.000  0.854  0.146   \n",
       "4     great taffy great price wide assortment yummy ...  0.000  0.369  0.631   \n",
       "...                                                 ...    ...    ...    ...   \n",
       "1995  laugh review said much work add egg little but...  0.000  0.554  0.446   \n",
       "1996  read favorable review pancake mix amazon quite...  0.026  0.614  0.360   \n",
       "1997  expecting great thing based review good great ...  0.000  0.503  0.497   \n",
       "1998  love pancake mix bought first whole food marke...  0.098  0.705  0.197   \n",
       "1999  say wonderful highlight weekend ohhhhhh use so...  0.000  0.471  0.529   \n",
       "\n",
       "      compound  \n",
       "0       0.9413  \n",
       "1      -0.1027  \n",
       "2       0.8624  \n",
       "3       0.4404  \n",
       "4       0.9468  \n",
       "...        ...  \n",
       "1995    0.9731  \n",
       "1996    0.9961  \n",
       "1997    0.9498  \n",
       "1998    0.7003  \n",
       "1999    0.8402  \n",
       "\n",
       "[2000 rows x 15 columns]"
      ]
     },
     "execution_count": 130,
     "metadata": {},
     "output_type": "execute_result"
    }
   ],
   "source": [
    "df"
   ]
  },
  {
   "cell_type": "markdown",
   "id": "7d1d6664",
   "metadata": {},
   "source": [
    "### Plotting"
   ]
  },
  {
   "cell_type": "code",
   "execution_count": 151,
   "id": "ecefea0f",
   "metadata": {},
   "outputs": [
    {
     "data": {
      "image/png": "[encoded data removed]",
      "text/plain": [
       "<Figure size 1200x800 with 4 Axes>"
      ]
     },
     "metadata": {},
     "output_type": "display_data"
    }
   ],
   "source": [
    "fig, axs = plt.subplots(2, 2, figsize=(12, 8))\n",
    "\n",
    "sns.barplot(data=df, x='Score', y='compound', hue='Score', ax=axs[0, 0], legend=False, estimator='mean')\n",
    "sns.histplot(data=df, x='neg', ax=axs[0,1])\n",
    "sns.histplot(data=df, x='neu', ax=axs[1,0], color='blue')\n",
    "sns.histplot(data=df, x='pos', ax=axs[1,1], color='green')\n",
    "\n",
    "axs[0,0].set_title('Scores and Average Compound Values')\n",
    "axs[0,1].set_title('Negative Sentiment Values Distribution')\n",
    "axs[1,0].set_title('Neutral Sentiment Values Distribution')\n",
    "axs[1,1].set_title('Positive Sentiment Values Distribution')\n",
    "\n",
    "plt.tight_layout()\n",
    "plt.show()"
   ]
  }
 ],
 "metadata": {
  "kernelspec": {
   "display_name": "Python 3",
   "language": "python",
   "name": "python3"
  },
  "language_info": {
   "codemirror_mode": {
    "name": "ipython",
    "version": 3
   },
   "file_extension": ".py",
   "mimetype": "text/x-python",
   "name": "python",
   "nbconvert_exporter": "python",
   "pygments_lexer": "ipython3",
   "version": "3.9.11"
  }
 },
 "nbformat": 4,
 "nbformat_minor": 5
}
